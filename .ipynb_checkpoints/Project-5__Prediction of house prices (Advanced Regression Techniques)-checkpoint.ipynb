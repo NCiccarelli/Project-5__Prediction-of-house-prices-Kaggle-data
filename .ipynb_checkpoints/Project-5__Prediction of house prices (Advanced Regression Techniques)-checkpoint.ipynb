{
 "cells": [
  {
   "cell_type": "markdown",
   "metadata": {},
   "source": [
    "# Project 5: Prediction of house prices (Kaggle dataset)"
   ]
  },
  {
   "cell_type": "markdown",
   "metadata": {},
   "source": [
    "**In this Jupyter notebook we predict house prices based on a set of features such as number of bedrooms. The data is obtained from Kaggle at this website: https://www.kaggle.com/c/house-prices-advanced-regression-techniques/data**"
   ]
  },
  {
   "cell_type": "markdown",
   "metadata": {},
   "source": [
    "**Target variable:**\n",
    "- SalePrice - the property's sale price in dollars. This is the target variable that I am trying to predict.    "
   ]
  },
  {
   "cell_type": "markdown",
   "metadata": {},
   "source": [
    "**The features are described in the \"data_description.txt\" file, and the latter file is included in the \"data\" folder.** **For brevity we do not report the description of the features here, and we refer the reader to the \"data_description.txt\" file.**    "
   ]
  },
  {
   "cell_type": "code",
   "execution_count": 2,
   "metadata": {},
   "outputs": [],
   "source": [
    "import pandas as pd\n",
    "import numpy as np\n",
    "import matplotlib.pyplot as plt \n",
    "import seaborn as sns\n",
    "\n",
    "## Warnings (ignore warnings):\n",
    "import warnings\n",
    "from scipy import stats\n",
    "warnings.filterwarnings('ignore')\n",
    "\n",
    "#Packeage to identify values \"NA\" in textual variables \n",
    "# (see https://stackoverflow.com/questions/33952142/prevent-pandas-from-interpreting-na-as-nan-in-a-string)\n",
    "from io import StringIO"
   ]
  },
  {
   "cell_type": "markdown",
   "metadata": {},
   "source": [
    "# *Section 1: Import the 3 Kaggle datasets (train.csv; test.csv; sample_submission.csv)*"
   ]
  },
  {
   "cell_type": "code",
   "execution_count": 7,
   "metadata": {},
   "outputs": [],
   "source": [
    "# df = pd.read_csv(StringIO(data), sep=' ', keep_default_na=False, na_values=['_'])\n",
    "\n",
    "df = pd.read_csv('data/train.csv', keep_default_na=False)\n",
    "test_df = pd.read_csv('data/test.csv', keep_default_na=False) \n",
    "sample_submission_df = pd.read_csv('data/sample_submission.csv')"
   ]
  },
  {
   "cell_type": "code",
   "execution_count": 8,
   "metadata": {},
   "outputs": [
    {
     "data": {
      "text/plain": [
       "((1460, 81), (1459, 80))"
      ]
     },
     "execution_count": 8,
     "metadata": {},
     "output_type": "execute_result"
    }
   ],
   "source": [
    "(df.shape, test_df.shape)"
   ]
  },
  {
   "cell_type": "code",
   "execution_count": 9,
   "metadata": {},
   "outputs": [
    {
     "data": {
      "text/html": [
       "<div>\n",
       "<style scoped>\n",
       "    .dataframe tbody tr th:only-of-type {\n",
       "        vertical-align: middle;\n",
       "    }\n",
       "\n",
       "    .dataframe tbody tr th {\n",
       "        vertical-align: top;\n",
       "    }\n",
       "\n",
       "    .dataframe thead th {\n",
       "        text-align: right;\n",
       "    }\n",
       "</style>\n",
       "<table border=\"1\" class=\"dataframe\">\n",
       "  <thead>\n",
       "    <tr style=\"text-align: right;\">\n",
       "      <th></th>\n",
       "      <th>Id</th>\n",
       "      <th>MSSubClass</th>\n",
       "      <th>MSZoning</th>\n",
       "      <th>LotFrontage</th>\n",
       "      <th>LotArea</th>\n",
       "      <th>Street</th>\n",
       "      <th>Alley</th>\n",
       "      <th>LotShape</th>\n",
       "      <th>LandContour</th>\n",
       "      <th>Utilities</th>\n",
       "      <th>...</th>\n",
       "      <th>PoolArea</th>\n",
       "      <th>PoolQC</th>\n",
       "      <th>Fence</th>\n",
       "      <th>MiscFeature</th>\n",
       "      <th>MiscVal</th>\n",
       "      <th>MoSold</th>\n",
       "      <th>YrSold</th>\n",
       "      <th>SaleType</th>\n",
       "      <th>SaleCondition</th>\n",
       "      <th>SalePrice</th>\n",
       "    </tr>\n",
       "  </thead>\n",
       "  <tbody>\n",
       "    <tr>\n",
       "      <th>0</th>\n",
       "      <td>1</td>\n",
       "      <td>60</td>\n",
       "      <td>RL</td>\n",
       "      <td>65</td>\n",
       "      <td>8450</td>\n",
       "      <td>Pave</td>\n",
       "      <td>NA</td>\n",
       "      <td>Reg</td>\n",
       "      <td>Lvl</td>\n",
       "      <td>AllPub</td>\n",
       "      <td>...</td>\n",
       "      <td>0</td>\n",
       "      <td>NA</td>\n",
       "      <td>NA</td>\n",
       "      <td>NA</td>\n",
       "      <td>0</td>\n",
       "      <td>2</td>\n",
       "      <td>2008</td>\n",
       "      <td>WD</td>\n",
       "      <td>Normal</td>\n",
       "      <td>208500</td>\n",
       "    </tr>\n",
       "  </tbody>\n",
       "</table>\n",
       "<p>1 rows × 81 columns</p>\n",
       "</div>"
      ],
      "text/plain": [
       "   Id  MSSubClass MSZoning LotFrontage  LotArea Street Alley LotShape  \\\n",
       "0   1          60       RL          65     8450   Pave    NA      Reg   \n",
       "\n",
       "  LandContour Utilities  ... PoolArea PoolQC Fence MiscFeature MiscVal MoSold  \\\n",
       "0         Lvl    AllPub  ...        0     NA    NA          NA       0      2   \n",
       "\n",
       "  YrSold  SaleType  SaleCondition  SalePrice  \n",
       "0   2008        WD         Normal     208500  \n",
       "\n",
       "[1 rows x 81 columns]"
      ]
     },
     "execution_count": 9,
     "metadata": {},
     "output_type": "execute_result"
    }
   ],
   "source": [
    "df.head(1)"
   ]
  },
  {
   "cell_type": "code",
   "execution_count": 10,
   "metadata": {},
   "outputs": [
    {
     "data": {
      "text/html": [
       "<div>\n",
       "<style scoped>\n",
       "    .dataframe tbody tr th:only-of-type {\n",
       "        vertical-align: middle;\n",
       "    }\n",
       "\n",
       "    .dataframe tbody tr th {\n",
       "        vertical-align: top;\n",
       "    }\n",
       "\n",
       "    .dataframe thead th {\n",
       "        text-align: right;\n",
       "    }\n",
       "</style>\n",
       "<table border=\"1\" class=\"dataframe\">\n",
       "  <thead>\n",
       "    <tr style=\"text-align: right;\">\n",
       "      <th></th>\n",
       "      <th>Id</th>\n",
       "      <th>MSSubClass</th>\n",
       "      <th>MSZoning</th>\n",
       "      <th>LotFrontage</th>\n",
       "      <th>LotArea</th>\n",
       "      <th>Street</th>\n",
       "      <th>Alley</th>\n",
       "      <th>LotShape</th>\n",
       "      <th>LandContour</th>\n",
       "      <th>Utilities</th>\n",
       "      <th>...</th>\n",
       "      <th>ScreenPorch</th>\n",
       "      <th>PoolArea</th>\n",
       "      <th>PoolQC</th>\n",
       "      <th>Fence</th>\n",
       "      <th>MiscFeature</th>\n",
       "      <th>MiscVal</th>\n",
       "      <th>MoSold</th>\n",
       "      <th>YrSold</th>\n",
       "      <th>SaleType</th>\n",
       "      <th>SaleCondition</th>\n",
       "    </tr>\n",
       "  </thead>\n",
       "  <tbody>\n",
       "    <tr>\n",
       "      <th>0</th>\n",
       "      <td>1461</td>\n",
       "      <td>20</td>\n",
       "      <td>RH</td>\n",
       "      <td>80</td>\n",
       "      <td>11622</td>\n",
       "      <td>Pave</td>\n",
       "      <td>NA</td>\n",
       "      <td>Reg</td>\n",
       "      <td>Lvl</td>\n",
       "      <td>AllPub</td>\n",
       "      <td>...</td>\n",
       "      <td>120</td>\n",
       "      <td>0</td>\n",
       "      <td>NA</td>\n",
       "      <td>MnPrv</td>\n",
       "      <td>NA</td>\n",
       "      <td>0</td>\n",
       "      <td>6</td>\n",
       "      <td>2010</td>\n",
       "      <td>WD</td>\n",
       "      <td>Normal</td>\n",
       "    </tr>\n",
       "  </tbody>\n",
       "</table>\n",
       "<p>1 rows × 80 columns</p>\n",
       "</div>"
      ],
      "text/plain": [
       "     Id  MSSubClass MSZoning LotFrontage  LotArea Street Alley LotShape  \\\n",
       "0  1461          20       RH          80    11622   Pave    NA      Reg   \n",
       "\n",
       "  LandContour Utilities  ... ScreenPorch PoolArea PoolQC  Fence MiscFeature  \\\n",
       "0         Lvl    AllPub  ...         120        0     NA  MnPrv          NA   \n",
       "\n",
       "  MiscVal MoSold  YrSold  SaleType  SaleCondition  \n",
       "0       0      6    2010        WD         Normal  \n",
       "\n",
       "[1 rows x 80 columns]"
      ]
     },
     "execution_count": 10,
     "metadata": {},
     "output_type": "execute_result"
    }
   ],
   "source": [
    "test_df.head(1)"
   ]
  },
  {
   "cell_type": "markdown",
   "metadata": {},
   "source": [
    "# *Section 2: Exploratory data analysis for the target variable (i.e., SalePrice)*"
   ]
  },
  {
   "cell_type": "markdown",
   "metadata": {},
   "source": [
    "**Histogram of The SalePrice:**"
   ]
  },
  {
   "cell_type": "code",
   "execution_count": 11,
   "metadata": {},
   "outputs": [
    {
     "data": {
      "text/plain": [
       "<AxesSubplot:xlabel='SalePrice', ylabel='Density'>"
      ]
     },
     "execution_count": 11,
     "metadata": {},
     "output_type": "execute_result"
    },
    {
     "data": {
      "image/png": "[encoded data removed]",
      "text/plain": [
       "<Figure size 432x288 with 1 Axes>"
      ]
     },
     "metadata": {
      "needs_background": "light"
     },
     "output_type": "display_data"
    }
   ],
   "source": [
    "#Training set: \n",
    "sns.distplot(df['SalePrice'])\n",
    "#SalePrice is highly skewed"
   ]
  },
  {
   "cell_type": "markdown",
   "metadata": {},
   "source": [
    "**Histogram by year**"
   ]
  },
  {
   "cell_type": "code",
   "execution_count": 12,
   "metadata": {},
   "outputs": [
    {
     "name": "stdout",
     "output_type": "stream",
     "text": [
      "2009    338\n",
      "2007    329\n",
      "2006    314\n",
      "2008    304\n",
      "2010    175\n",
      "Name: YrSold, dtype: int64\n"
     ]
    },
    {
     "data": {
      "text/plain": [
       "<AxesSubplot:xlabel='SalePrice', ylabel='Density'>"
      ]
     },
     "execution_count": 12,
     "metadata": {},
     "output_type": "execute_result"
    },
    {
     "data": {
      "image/png": "[encoded data removed]",
      "text/plain": [
       "<Figure size 432x288 with 1 Axes>"
      ]
     },
     "metadata": {
      "needs_background": "light"
     },
     "output_type": "display_data"
    }
   ],
   "source": [
    "print(df.YrSold.value_counts())\n",
    "sns.kdeplot(df['SalePrice'][df.YrSold==2006], color = 'yellow')\n",
    "sns.kdeplot(df['SalePrice'][df.YrSold==2007], color = 'green')\n",
    "sns.kdeplot(df['SalePrice'][df.YrSold==2008], color = 'red')\n",
    "sns.kdeplot(df['SalePrice'][df.YrSold==2009], color = 'brown')\n",
    "sns.kdeplot(df['SalePrice'][df.YrSold==2010], color = 'black')\n",
    "#Remark: The variation of the sale price over time is very limited. "
   ]
  },
  {
   "cell_type": "markdown",
   "metadata": {},
   "source": [
    "**Histogram for the logarithm of SalePrice:**"
   ]
  },
  {
   "cell_type": "code",
   "execution_count": 15,
   "metadata": {},
   "outputs": [
    {
     "data": {
      "text/plain": [
       "<AxesSubplot:xlabel='SalePrice', ylabel='Density'>"
      ]
     },
     "execution_count": 15,
     "metadata": {},
     "output_type": "execute_result"
    },
    {
     "data": {
      "image/png": "[encoded data removed]",
      "text/plain": [
       "<Figure size 432x288 with 1 Axes>"
      ]
     },
     "metadata": {
      "needs_background": "light"
     },
     "output_type": "display_data"
    }
   ],
   "source": [
    "log_sale_price = np.log(df['SalePrice'])\n",
    "sns.distplot(log_sale_price)\n",
    "#Remark: The logarithm of the SalePrice looks normally distributed. "
   ]
  },
  {
   "cell_type": "markdown",
   "metadata": {},
   "source": [
    "# *Section 3: Check the amount of missing values for the training dataframe and the test dataframe*"
   ]
  },
  {
   "cell_type": "markdown",
   "metadata": {},
   "source": [
    "**Identifying missing values and selecting features that will not be used (because of too many missing values).**"
   ]
  },
  {
   "cell_type": "markdown",
   "metadata": {},
   "source": [
    "**List of all features is reported below, together with number of missing values for bothe training set and test set:**"
   ]
  },
  {
   "cell_type": "code",
   "execution_count": 16,
   "metadata": {},
   "outputs": [
    {
     "data": {
      "text/plain": [
       "[('Id', 0, 0),\n",
       " ('MSSubClass', 0, 0),\n",
       " ('MSZoning', 0, 0),\n",
       " ('LotFrontage', 0, 0),\n",
       " ('LotArea', 0, 0),\n",
       " ('Street', 0, 0),\n",
       " ('Alley', 0, 0),\n",
       " ('LotShape', 0, 0),\n",
       " ('LandContour', 0, 0),\n",
       " ('Utilities', 0, 0),\n",
       " ('LotConfig', 0, 0),\n",
       " ('LandSlope', 0, 0),\n",
       " ('Neighborhood', 0, 0),\n",
       " ('Condition1', 0, 0),\n",
       " ('Condition2', 0, 0),\n",
       " ('BldgType', 0, 0),\n",
       " ('HouseStyle', 0, 0),\n",
       " ('OverallQual', 0, 0),\n",
       " ('OverallCond', 0, 0),\n",
       " ('YearBuilt', 0, 0),\n",
       " ('YearRemodAdd', 0, 0),\n",
       " ('RoofStyle', 0, 0),\n",
       " ('RoofMatl', 0, 0),\n",
       " ('Exterior1st', 0, 0),\n",
       " ('Exterior2nd', 0, 0),\n",
       " ('MasVnrType', 0, 0),\n",
       " ('MasVnrArea', 0, 0),\n",
       " ('ExterQual', 0, 0),\n",
       " ('ExterCond', 0, 0),\n",
       " ('Foundation', 0, 0),\n",
       " ('BsmtQual', 0, 0),\n",
       " ('BsmtCond', 0, 0),\n",
       " ('BsmtExposure', 0, 0),\n",
       " ('BsmtFinType1', 0, 0),\n",
       " ('BsmtFinSF1', 0, 0),\n",
       " ('BsmtFinType2', 0, 0),\n",
       " ('BsmtFinSF2', 0, 0),\n",
       " ('BsmtUnfSF', 0, 0),\n",
       " ('TotalBsmtSF', 0, 0),\n",
       " ('Heating', 0, 0),\n",
       " ('HeatingQC', 0, 0),\n",
       " ('CentralAir', 0, 0),\n",
       " ('Electrical', 0, 0),\n",
       " ('1stFlrSF', 0, 0),\n",
       " ('2ndFlrSF', 0, 0),\n",
       " ('LowQualFinSF', 0, 0),\n",
       " ('GrLivArea', 0, 0),\n",
       " ('BsmtFullBath', 0, 0),\n",
       " ('BsmtHalfBath', 0, 0),\n",
       " ('FullBath', 0, 0),\n",
       " ('HalfBath', 0, 0),\n",
       " ('BedroomAbvGr', 0, 0),\n",
       " ('KitchenAbvGr', 0, 0),\n",
       " ('KitchenQual', 0, 0),\n",
       " ('TotRmsAbvGrd', 0, 0),\n",
       " ('Functional', 0, 0),\n",
       " ('Fireplaces', 0, 0),\n",
       " ('FireplaceQu', 0, 0),\n",
       " ('GarageType', 0, 0),\n",
       " ('GarageYrBlt', 0, 0),\n",
       " ('GarageFinish', 0, 0),\n",
       " ('GarageCars', 0, 0),\n",
       " ('GarageArea', 0, 0),\n",
       " ('GarageQual', 0, 0),\n",
       " ('GarageCond', 0, 0),\n",
       " ('PavedDrive', 0, 0),\n",
       " ('WoodDeckSF', 0, 0),\n",
       " ('OpenPorchSF', 0, 0),\n",
       " ('EnclosedPorch', 0, 0),\n",
       " ('3SsnPorch', 0, 0),\n",
       " ('ScreenPorch', 0, 0),\n",
       " ('PoolArea', 0, 0),\n",
       " ('PoolQC', 0, 0),\n",
       " ('Fence', 0, 0),\n",
       " ('MiscFeature', 0, 0),\n",
       " ('MiscVal', 0, 0),\n",
       " ('MoSold', 0, 0),\n",
       " ('YrSold', 0, 0),\n",
       " ('SaleType', 0, 0),\n",
       " ('SaleCondition', 0, 0)]"
      ]
     },
     "execution_count": 16,
     "metadata": {},
     "output_type": "execute_result"
    }
   ],
   "source": [
    "list(zip(df.columns, df.isnull().sum(), test_df.isnull().sum()))"
   ]
  },
  {
   "cell_type": "code",
   "execution_count": 17,
   "metadata": {},
   "outputs": [
    {
     "data": {
      "text/plain": [
       "Id           0\n",
       "SalePrice    0\n",
       "dtype: int64"
      ]
     },
     "execution_count": 17,
     "metadata": {},
     "output_type": "execute_result"
    }
   ],
   "source": [
    "sample_submission_df.isnull().sum().head(2)"
   ]
  },
  {
   "cell_type": "code",
   "execution_count": 18,
   "metadata": {},
   "outputs": [
    {
     "name": "stdout",
     "output_type": "stream",
     "text": [
      "81\n",
      "80\n"
     ]
    }
   ],
   "source": [
    "print(len(df.columns))\n",
    "print(len(test_df.columns))"
   ]
  },
  {
   "cell_type": "markdown",
   "metadata": {},
   "source": [
    "# Section 4: Data Preparation\n",
    "\n",
    "**Handle the missing values (substitute the missing values, so that there will be no missing values in both the training set and test set)**"
   ]
  },
  {
   "cell_type": "markdown",
   "metadata": {},
   "source": [
    "**Some numerical features contain the string 'NA': These are cases of missing values for numerical features:**\n",
    "\n",
    "These variables contain missing values: \n",
    "\n",
    "- LotFrontage\n",
    "- MasVnrArea\n",
    "- Electrical\n",
    "- GarageYrBlt\n",
    "\n",
    "See below for more detailed explanation. "
   ]
  },
  {
   "cell_type": "code",
   "execution_count": 19,
   "metadata": {},
   "outputs": [
    {
     "name": "stdout",
     "output_type": "stream",
     "text": [
      "259\n",
      "8\n",
      "1\n",
      "81\n"
     ]
    }
   ],
   "source": [
    "print(len(df[df.LotFrontage=='NA']))\n",
    "print(len(df[df.MasVnrArea=='NA']))\n",
    "print(len(df[df.Electrical=='NA']))\n",
    "print(len(df[df.GarageYrBlt=='NA']))"
   ]
  },
  {
   "cell_type": "markdown",
   "metadata": {},
   "source": [
    "**On the other hand, all other variables do not seem to contain missing values anymore.**\n",
    "\n",
    "**Note/remark: some variables contain value 'NA': This is not the same as missing value.**\n",
    "\n",
    "**For example, the variable \"GarageCond\" contains \"NA\", but these are not the same as missing values: See the \"data_description.txt\" file. I report the description for \"GarageCond\" below:**\n",
    "        \n",
    "GarageCond: Garage condition\n",
    "\n",
    "       Ex\tExcellent\n",
    "       Gd\tGood\n",
    "       TA\tTypical/Average\n",
    "       Fa\tFair\n",
    "       Po\tPoor\n",
    "       NA\tNo Garage        "
   ]
  },
  {
   "cell_type": "code",
   "execution_count": 20,
   "metadata": {},
   "outputs": [
    {
     "name": "stdout",
     "output_type": "stream",
     "text": [
      "227\n",
      "15\n",
      "0\n",
      "78\n"
     ]
    }
   ],
   "source": [
    "print(len(test_df[test_df.LotFrontage=='NA']))\n",
    "print(len(test_df[test_df.MasVnrArea=='NA']))\n",
    "print(len(test_df[test_df.Electrical=='NA']))\n",
    "print(len(test_df[test_df.GarageYrBlt=='NA']))"
   ]
  },
  {
   "cell_type": "markdown",
   "metadata": {},
   "source": [
    "**Replace missing values for LotFrontage**"
   ]
  },
  {
   "cell_type": "code",
   "execution_count": 21,
   "metadata": {},
   "outputs": [],
   "source": [
    "# Substitute the missing values using the mode: \n",
    "from scipy import stats\n",
    "\n",
    "#Replace LotFrontage in the training set: \n",
    "mode1 = stats.mode(df.LotFrontage[df.LotFrontage!='NA'])[0][0]\n",
    "mode1\n",
    "#Replace the NA values: \n",
    "df.LotFrontage[df.LotFrontage=='NA'] = mode1\n",
    "\n",
    "#Replace LotFrontage in the test set: \n",
    "mode2 = stats.mode(test_df.LotFrontage[test_df.LotFrontage!='NA'])[0][0]\n",
    "mode2\n",
    "#Replace the NA values: \n",
    "test_df.LotFrontage[test_df.LotFrontage=='NA'] = mode2"
   ]
  },
  {
   "cell_type": "markdown",
   "metadata": {},
   "source": [
    "**Replace missing values for MasVnrArea**"
   ]
  },
  {
   "cell_type": "code",
   "execution_count": 23,
   "metadata": {},
   "outputs": [],
   "source": [
    "#Replace MasVnrArea in the training set: \n",
    "mode3 = stats.mode(df.MasVnrArea[df.MasVnrArea!='NA'])[0][0]\n",
    "mode3\n",
    "#Replace the NA values: \n",
    "df.MasVnrArea[df.MasVnrArea=='NA'] = mode3\n",
    "\n",
    "#Replace MasVnrArea in the test set: \n",
    "mode4 = stats.mode(test_df.MasVnrArea[test_df.MasVnrArea!='NA'])[0][0]\n",
    "mode4\n",
    "#Replace the NA values: \n",
    "test_df.MasVnrArea[test_df.MasVnrArea=='NA'] = mode4 "
   ]
  },
  {
   "cell_type": "markdown",
   "metadata": {},
   "source": [
    "**Replace missing values for Electrical**\n"
   ]
  },
  {
   "cell_type": "code",
   "execution_count": 24,
   "metadata": {},
   "outputs": [],
   "source": [
    "#Replace MasVnrArea in the training set: \n",
    "mode5 = stats.mode(df.Electrical[df.Electrical!='NA'])[0][0]\n",
    "mode5\n",
    "#Replace the NA values: \n",
    "df.Electrical[df.Electrical=='NA'] = mode5\n",
    "\n",
    "#Replace MasVnrArea in the test set: \n",
    "mode6 = stats.mode(test_df.Electrical[test_df.Electrical!='NA'])[0][0]\n",
    "mode6\n",
    "#Replace the NA values: \n",
    "test_df.Electrical[test_df.Electrical=='NA'] = mode6 "
   ]
  },
  {
   "cell_type": "markdown",
   "metadata": {},
   "source": [
    "**Replace missing values for GarageYrBlt**\n"
   ]
  },
  {
   "cell_type": "code",
   "execution_count": 25,
   "metadata": {},
   "outputs": [],
   "source": [
    "#Replace MasVnrArea in the training set: \n",
    "mode7 = stats.mode(df.GarageYrBlt[df.GarageYrBlt!='NA'])[0][0]\n",
    "mode7\n",
    "#Replace the NA values: \n",
    "df.GarageYrBlt[df.GarageYrBlt=='NA'] = mode7\n",
    "\n",
    "#Replace MasVnrArea in the test set: \n",
    "mode8 = stats.mode(test_df.GarageYrBlt[test_df.GarageYrBlt!='NA'])[0][0]\n",
    "mode8\n",
    "#Replace the NA values: \n",
    "test_df.GarageYrBlt[test_df.GarageYrBlt=='NA'] = mode8 "
   ]
  },
  {
   "cell_type": "markdown",
   "metadata": {},
   "source": [
    "**Finally, transform the three continuous variables (i.e., GarageYrBlt; MasVnrArea; LotFrontage) into numerical variables. Those 3 variables were automatically transformed into string variables by Pandas, because they contained 'NA' values.**"
   ]
  },
  {
   "cell_type": "code",
   "execution_count": 27,
   "metadata": {},
   "outputs": [],
   "source": [
    "def to_num(x):\n",
    "    x=float(x)\n",
    "    return x\n",
    "\n",
    "df.GarageYrBlt = df.GarageYrBlt.map(to_num)\n",
    "df.MasVnrArea = df.MasVnrArea.map(to_num)\n",
    "df.LotFrontage = df.LotFrontage.map(to_num)\n",
    "\n",
    "test_df.GarageYrBlt = test_df.GarageYrBlt.map(to_num)\n",
    "test_df.MasVnrArea = test_df.MasVnrArea.map(to_num)\n",
    "test_df.LotFrontage = test_df.LotFrontage.map(to_num)"
   ]
  },
  {
   "cell_type": "markdown",
   "metadata": {},
   "source": [
    "**Final check: Using the training set, check if there are still continuous variables that have \"string\" format:**\n"
   ]
  },
  {
   "cell_type": "code",
   "execution_count": 28,
   "metadata": {},
   "outputs": [
    {
     "name": "stdout",
     "output_type": "stream",
     "text": [
      "The format of column  Id  is: <class 'numpy.int64'>.\n",
      "The format of column  MSSubClass  is: <class 'numpy.int64'>.\n",
      "The format of column  MSZoning  is: <class 'str'>.\n",
      "The format of column  LotFrontage  is: <class 'numpy.float64'>.\n",
      "The format of column  LotArea  is: <class 'numpy.int64'>.\n",
      "The format of column  Street  is: <class 'str'>.\n",
      "The format of column  Alley  is: <class 'str'>.\n",
      "The format of column  LotShape  is: <class 'str'>.\n",
      "The format of column  LandContour  is: <class 'str'>.\n",
      "The format of column  Utilities  is: <class 'str'>.\n",
      "The format of column  LotConfig  is: <class 'str'>.\n",
      "The format of column  LandSlope  is: <class 'str'>.\n",
      "The format of column  Neighborhood  is: <class 'str'>.\n",
      "The format of column  Condition1  is: <class 'str'>.\n",
      "The format of column  Condition2  is: <class 'str'>.\n",
      "The format of column  BldgType  is: <class 'str'>.\n",
      "The format of column  HouseStyle  is: <class 'str'>.\n",
      "The format of column  OverallQual  is: <class 'numpy.int64'>.\n",
      "The format of column  OverallCond  is: <class 'numpy.int64'>.\n",
      "The format of column  YearBuilt  is: <class 'numpy.int64'>.\n",
      "The format of column  YearRemodAdd  is: <class 'numpy.int64'>.\n",
      "The format of column  RoofStyle  is: <class 'str'>.\n",
      "The format of column  RoofMatl  is: <class 'str'>.\n",
      "The format of column  Exterior1st  is: <class 'str'>.\n",
      "The format of column  Exterior2nd  is: <class 'str'>.\n",
      "The format of column  MasVnrType  is: <class 'str'>.\n",
      "The format of column  MasVnrArea  is: <class 'numpy.float64'>.\n",
      "The format of column  ExterQual  is: <class 'str'>.\n",
      "The format of column  ExterCond  is: <class 'str'>.\n",
      "The format of column  Foundation  is: <class 'str'>.\n",
      "The format of column  BsmtQual  is: <class 'str'>.\n",
      "The format of column  BsmtCond  is: <class 'str'>.\n",
      "The format of column  BsmtExposure  is: <class 'str'>.\n",
      "The format of column  BsmtFinType1  is: <class 'str'>.\n",
      "The format of column  BsmtFinSF1  is: <class 'numpy.int64'>.\n",
      "The format of column  BsmtFinType2  is: <class 'str'>.\n",
      "The format of column  BsmtFinSF2  is: <class 'numpy.int64'>.\n",
      "The format of column  BsmtUnfSF  is: <class 'numpy.int64'>.\n",
      "The format of column  TotalBsmtSF  is: <class 'numpy.int64'>.\n",
      "The format of column  Heating  is: <class 'str'>.\n",
      "The format of column  HeatingQC  is: <class 'str'>.\n",
      "The format of column  CentralAir  is: <class 'str'>.\n",
      "The format of column  Electrical  is: <class 'str'>.\n",
      "The format of column  1stFlrSF  is: <class 'numpy.int64'>.\n",
      "The format of column  2ndFlrSF  is: <class 'numpy.int64'>.\n",
      "The format of column  LowQualFinSF  is: <class 'numpy.int64'>.\n",
      "The format of column  GrLivArea  is: <class 'numpy.int64'>.\n",
      "The format of column  BsmtFullBath  is: <class 'numpy.int64'>.\n",
      "The format of column  BsmtHalfBath  is: <class 'numpy.int64'>.\n",
      "The format of column  FullBath  is: <class 'numpy.int64'>.\n",
      "The format of column  HalfBath  is: <class 'numpy.int64'>.\n",
      "The format of column  BedroomAbvGr  is: <class 'numpy.int64'>.\n",
      "The format of column  KitchenAbvGr  is: <class 'numpy.int64'>.\n",
      "The format of column  KitchenQual  is: <class 'str'>.\n",
      "The format of column  TotRmsAbvGrd  is: <class 'numpy.int64'>.\n",
      "The format of column  Functional  is: <class 'str'>.\n",
      "The format of column  Fireplaces  is: <class 'numpy.int64'>.\n",
      "The format of column  FireplaceQu  is: <class 'str'>.\n",
      "The format of column  GarageType  is: <class 'str'>.\n",
      "The format of column  GarageYrBlt  is: <class 'numpy.float64'>.\n",
      "The format of column  GarageFinish  is: <class 'str'>.\n",
      "The format of column  GarageCars  is: <class 'numpy.int64'>.\n",
      "The format of column  GarageArea  is: <class 'numpy.int64'>.\n",
      "The format of column  GarageQual  is: <class 'str'>.\n",
      "The format of column  GarageCond  is: <class 'str'>.\n",
      "The format of column  PavedDrive  is: <class 'str'>.\n",
      "The format of column  WoodDeckSF  is: <class 'numpy.int64'>.\n",
      "The format of column  OpenPorchSF  is: <class 'numpy.int64'>.\n",
      "The format of column  EnclosedPorch  is: <class 'numpy.int64'>.\n",
      "The format of column  3SsnPorch  is: <class 'numpy.int64'>.\n",
      "The format of column  ScreenPorch  is: <class 'numpy.int64'>.\n",
      "The format of column  PoolArea  is: <class 'numpy.int64'>.\n",
      "The format of column  PoolQC  is: <class 'str'>.\n",
      "The format of column  Fence  is: <class 'str'>.\n",
      "The format of column  MiscFeature  is: <class 'str'>.\n",
      "The format of column  MiscVal  is: <class 'numpy.int64'>.\n",
      "The format of column  MoSold  is: <class 'numpy.int64'>.\n",
      "The format of column  YrSold  is: <class 'numpy.int64'>.\n",
      "The format of column  SaleType  is: <class 'str'>.\n",
      "The format of column  SaleCondition  is: <class 'str'>.\n",
      "The format of column  SalePrice  is: <class 'numpy.int64'>.\n"
     ]
    }
   ],
   "source": [
    "cols = df.columns \n",
    "for i in cols:\n",
    "    format_i = type(df[i][0])\n",
    "    print(f'The format of column  {i}  is: {format_i}.' )"
   ]
  },
  {
   "cell_type": "markdown",
   "metadata": {},
   "source": [
    "**All variables have the right format. I have checked it by comparing the output reported above with the \"data_description.txt\" file.** "
   ]
  },
  {
   "cell_type": "markdown",
   "metadata": {},
   "source": [
    "**Final check: Using the test set, check if there are still continuous variables that have \"string\" format, and check if the format of the test test's variable is the same as the training set:**\n"
   ]
  },
  {
   "cell_type": "code",
   "execution_count": 29,
   "metadata": {},
   "outputs": [
    {
     "name": "stdout",
     "output_type": "stream",
     "text": [
      "The format of column  Id  is: <class 'numpy.int64'>.\n",
      "The format of column  MSSubClass  is: <class 'numpy.int64'>.\n",
      "The format of column  MSZoning  is: <class 'str'>.\n",
      "The format of column  LotFrontage  is: <class 'numpy.float64'>.\n",
      "The format of column  LotArea  is: <class 'numpy.int64'>.\n",
      "The format of column  Street  is: <class 'str'>.\n",
      "The format of column  Alley  is: <class 'str'>.\n",
      "The format of column  LotShape  is: <class 'str'>.\n",
      "The format of column  LandContour  is: <class 'str'>.\n",
      "The format of column  Utilities  is: <class 'str'>.\n",
      "The format of column  LotConfig  is: <class 'str'>.\n",
      "The format of column  LandSlope  is: <class 'str'>.\n",
      "The format of column  Neighborhood  is: <class 'str'>.\n",
      "The format of column  Condition1  is: <class 'str'>.\n",
      "The format of column  Condition2  is: <class 'str'>.\n",
      "The format of column  BldgType  is: <class 'str'>.\n",
      "The format of column  HouseStyle  is: <class 'str'>.\n",
      "The format of column  OverallQual  is: <class 'numpy.int64'>.\n",
      "The format of column  OverallCond  is: <class 'numpy.int64'>.\n",
      "The format of column  YearBuilt  is: <class 'numpy.int64'>.\n",
      "The format of column  YearRemodAdd  is: <class 'numpy.int64'>.\n",
      "The format of column  RoofStyle  is: <class 'str'>.\n",
      "The format of column  RoofMatl  is: <class 'str'>.\n",
      "The format of column  Exterior1st  is: <class 'str'>.\n",
      "The format of column  Exterior2nd  is: <class 'str'>.\n",
      "The format of column  MasVnrType  is: <class 'str'>.\n",
      "The format of column  MasVnrArea  is: <class 'numpy.float64'>.\n",
      "The format of column  ExterQual  is: <class 'str'>.\n",
      "The format of column  ExterCond  is: <class 'str'>.\n",
      "The format of column  Foundation  is: <class 'str'>.\n",
      "The format of column  BsmtQual  is: <class 'str'>.\n",
      "The format of column  BsmtCond  is: <class 'str'>.\n",
      "The format of column  BsmtExposure  is: <class 'str'>.\n",
      "The format of column  BsmtFinType1  is: <class 'str'>.\n",
      "The format of column  BsmtFinSF1  is: <class 'str'>.\n",
      "The format of column  BsmtFinType2  is: <class 'str'>.\n",
      "The format of column  BsmtFinSF2  is: <class 'str'>.\n",
      "The format of column  BsmtUnfSF  is: <class 'str'>.\n",
      "The format of column  TotalBsmtSF  is: <class 'str'>.\n",
      "The format of column  Heating  is: <class 'str'>.\n",
      "The format of column  HeatingQC  is: <class 'str'>.\n",
      "The format of column  CentralAir  is: <class 'str'>.\n",
      "The format of column  Electrical  is: <class 'str'>.\n",
      "The format of column  1stFlrSF  is: <class 'numpy.int64'>.\n",
      "The format of column  2ndFlrSF  is: <class 'numpy.int64'>.\n",
      "The format of column  LowQualFinSF  is: <class 'numpy.int64'>.\n",
      "The format of column  GrLivArea  is: <class 'numpy.int64'>.\n",
      "The format of column  BsmtFullBath  is: <class 'str'>.\n",
      "The format of column  BsmtHalfBath  is: <class 'str'>.\n",
      "The format of column  FullBath  is: <class 'numpy.int64'>.\n",
      "The format of column  HalfBath  is: <class 'numpy.int64'>.\n",
      "The format of column  BedroomAbvGr  is: <class 'numpy.int64'>.\n",
      "The format of column  KitchenAbvGr  is: <class 'numpy.int64'>.\n",
      "The format of column  KitchenQual  is: <class 'str'>.\n",
      "The format of column  TotRmsAbvGrd  is: <class 'numpy.int64'>.\n",
      "The format of column  Functional  is: <class 'str'>.\n",
      "The format of column  Fireplaces  is: <class 'numpy.int64'>.\n",
      "The format of column  FireplaceQu  is: <class 'str'>.\n",
      "The format of column  GarageType  is: <class 'str'>.\n",
      "The format of column  GarageYrBlt  is: <class 'numpy.float64'>.\n",
      "The format of column  GarageFinish  is: <class 'str'>.\n",
      "The format of column  GarageCars  is: <class 'str'>.\n",
      "The format of column  GarageArea  is: <class 'str'>.\n",
      "The format of column  GarageQual  is: <class 'str'>.\n",
      "The format of column  GarageCond  is: <class 'str'>.\n",
      "The format of column  PavedDrive  is: <class 'str'>.\n",
      "The format of column  WoodDeckSF  is: <class 'numpy.int64'>.\n",
      "The format of column  OpenPorchSF  is: <class 'numpy.int64'>.\n",
      "The format of column  EnclosedPorch  is: <class 'numpy.int64'>.\n",
      "The format of column  3SsnPorch  is: <class 'numpy.int64'>.\n",
      "The format of column  ScreenPorch  is: <class 'numpy.int64'>.\n",
      "The format of column  PoolArea  is: <class 'numpy.int64'>.\n",
      "The format of column  PoolQC  is: <class 'str'>.\n",
      "The format of column  Fence  is: <class 'str'>.\n",
      "The format of column  MiscFeature  is: <class 'str'>.\n",
      "The format of column  MiscVal  is: <class 'numpy.int64'>.\n",
      "The format of column  MoSold  is: <class 'numpy.int64'>.\n",
      "The format of column  YrSold  is: <class 'numpy.int64'>.\n",
      "The format of column  SaleType  is: <class 'str'>.\n",
      "The format of column  SaleCondition  is: <class 'str'>.\n"
     ]
    }
   ],
   "source": [
    "cols2 = test_df.columns \n",
    "for i in cols2:\n",
    "    format_i = type(test_df[i][1])\n",
    "    print(f'The format of column  {i}  is: {format_i}.' )"
   ]
  },
  {
   "cell_type": "markdown",
   "metadata": {},
   "source": [
    "**Some variables have different format in training set VERSUS test set: E.g.g, BsmtFinSF1 has int64 format in training set and it has string format in test set. Thus, we change the format in the test set.**"
   ]
  },
  {
   "cell_type": "code",
   "execution_count": 30,
   "metadata": {},
   "outputs": [],
   "source": [
    "def to_int(x):\n",
    "    x=int(x)\n",
    "    return x\n",
    "\n",
    "#BsmtFinSF1\n",
    "mode = stats.mode(test_df.BsmtFinSF1[test_df.BsmtFinSF1!='NA'])[0][0]\n",
    "mode\n",
    "#Replace the NA values: \n",
    "test_df.BsmtFinSF1[test_df.BsmtFinSF1=='NA'] = mode \n",
    "test_df['BsmtFinSF1'] = test_df['BsmtFinSF1'].map(to_int)\n",
    "    \n",
    "    \n",
    "# BsmtFinSF2\n",
    "mode = stats.mode(test_df.BsmtFinSF2[test_df.BsmtFinSF2!='NA'])[0][0]\n",
    "mode\n",
    "#Replace the NA values: \n",
    "test_df.BsmtFinSF2[test_df.BsmtFinSF2=='NA'] = mode \n",
    "test_df['BsmtFinSF2'] = test_df['BsmtFinSF2'].map(to_int)\n",
    "\n",
    "\n",
    "# BsmtUnfSF\n",
    "mode = stats.mode(test_df.BsmtUnfSF[test_df.BsmtUnfSF!='NA'])[0][0]\n",
    "mode\n",
    "#Replace the NA values: \n",
    "test_df.BsmtUnfSF[test_df.BsmtUnfSF=='NA'] = mode \n",
    "test_df['BsmtUnfSF'] = test_df['BsmtUnfSF'].map(to_int)\n",
    "\n",
    "\n",
    "#TotalBsmtSF\n",
    "mode = stats.mode(test_df.TotalBsmtSF[test_df.TotalBsmtSF!='NA'])[0][0]\n",
    "mode\n",
    "#Replace the NA values: \n",
    "test_df.TotalBsmtSF[test_df.TotalBsmtSF=='NA'] = mode \n",
    "test_df['TotalBsmtSF'] = test_df['TotalBsmtSF'].map(to_int)\n",
    "\n",
    "\n",
    "#BsmtFullBath\n",
    "mode = stats.mode(test_df.BsmtFullBath[test_df.BsmtFullBath!='NA'])[0][0]\n",
    "mode\n",
    "#Replace the NA values: \n",
    "test_df.BsmtFullBath[test_df.BsmtFullBath=='NA'] = mode \n",
    "test_df['BsmtFullBath'] = test_df['BsmtFullBath'].map(to_int)\n",
    "\n",
    "\n",
    "# BsmtHalfBath\n",
    "mode = stats.mode(test_df.BsmtHalfBath[test_df.BsmtHalfBath!='NA'])[0][0]\n",
    "mode\n",
    "#Replace the NA values: \n",
    "test_df.BsmtHalfBath[test_df.BsmtHalfBath=='NA'] = mode \n",
    "test_df['BsmtHalfBath'] = test_df['BsmtHalfBath'].map(to_int)\n",
    "\n",
    "\n",
    "#GarageCars\n",
    "mode = stats.mode(test_df.GarageCars[test_df.GarageCars!='NA'])[0][0]\n",
    "mode\n",
    "#Replace the NA values: \n",
    "test_df.GarageCars[test_df.GarageCars=='NA'] = mode \n",
    "test_df['GarageCars'] = test_df['GarageCars'].map(to_int)\n",
    "\n",
    "\n",
    "# GarageArea\n",
    "mode = stats.mode(test_df.GarageArea[test_df.GarageArea!='NA'])[0][0]\n",
    "mode\n",
    "#Replace the NA values: \n",
    "test_df.GarageArea[test_df.GarageArea=='NA'] = mode \n",
    "test_df['GarageArea'] = test_df['GarageArea'].map(to_int)"
   ]
  },
  {
   "cell_type": "markdown",
   "metadata": {},
   "source": [
    "# Section 5: Join the training set and test set, so that I can be able to  create dummies"
   ]
  },
  {
   "cell_type": "code",
   "execution_count": 31,
   "metadata": {},
   "outputs": [],
   "source": [
    "training_and_test_data = df.append(test_df, ignore_index=True)"
   ]
  },
  {
   "cell_type": "code",
   "execution_count": 32,
   "metadata": {},
   "outputs": [
    {
     "data": {
      "text/plain": [
       "81"
      ]
     },
     "execution_count": 32,
     "metadata": {},
     "output_type": "execute_result"
    }
   ],
   "source": [
    "len(training_and_test_data.columns)"
   ]
  },
  {
   "cell_type": "code",
   "execution_count": 33,
   "metadata": {},
   "outputs": [
    {
     "data": {
      "text/plain": [
       "1459"
      ]
     },
     "execution_count": 33,
     "metadata": {},
     "output_type": "execute_result"
    }
   ],
   "source": [
    "training_and_test_data.SalePrice.isna().sum()\n",
    "#1459\n",
    "# As expected, the number of null values is exactly the same as the number of rows in the test set. "
   ]
  },
  {
   "cell_type": "markdown",
   "metadata": {},
   "source": [
    "# *Section 6: Create dummies with get_dummies() for both the training set and test set* "
   ]
  },
  {
   "cell_type": "markdown",
   "metadata": {},
   "source": [
    "**The variables reported here below will be transformed into dummies, because, e.g., they are either textual data (e.g., 'MSZoning')**"
   ]
  },
  {
   "cell_type": "code",
   "execution_count": 36,
   "metadata": {},
   "outputs": [],
   "source": [
    "training_and_test_data = pd.get_dummies(training_and_test_data, prefix_sep='_', drop_first=True)"
   ]
  },
  {
   "cell_type": "code",
   "execution_count": 38,
   "metadata": {},
   "outputs": [
    {
     "data": {
      "text/plain": [
       "269"
      ]
     },
     "execution_count": 38,
     "metadata": {},
     "output_type": "execute_result"
    }
   ],
   "source": [
    "len(training_and_test_data.columns)"
   ]
  },
  {
   "cell_type": "code",
   "execution_count": 39,
   "metadata": {},
   "outputs": [],
   "source": [
    "training_and_test_data.to_csv('data/training_and_test_data.csv',index=False)"
   ]
  },
  {
   "cell_type": "code",
   "execution_count": 40,
   "metadata": {},
   "outputs": [
    {
     "data": {
      "text/plain": [
       "\" \\ndataframe_training = df[['Id', 'MSSubClass', 'MSZoning', 'Street', 'Alley', 'LotShape', 'LandContour', 'Utilities', 'LotConfig',\\n       'LandSlope', 'Neighborhood', 'Condition1', 'Condition2', 'BldgType', \\n   'HouseStyle', 'OverallQual', 'OverallCond', 'YearBuilt', 'YearRemodAdd',\\n       'RoofStyle', 'RoofMatl', 'Exterior1st', 'Exterior2nd', 'MasVnrType',\\n        'ExterQual', 'ExterCond', 'Foundation', 'BsmtQual',\\n       'BsmtCond', 'BsmtExposure', 'BsmtFinType1', 'BsmtFinType2', \\n   'Heating', 'HeatingQC', 'CentralAir', 'Electrical', 'KitchenQual',    \\n       'Functional',  'FireplaceQu', 'GarageType',\\n       'GarageYrBlt', 'GarageFinish',  'GarageQual', \\n   'GarageCond', 'PavedDrive', 'PoolQC', 'Fence', 'MiscFeature', \\n     'MoSold', 'YrSold', 'SaleType', 'SaleCondition']]\\n\""
      ]
     },
     "execution_count": 40,
     "metadata": {},
     "output_type": "execute_result"
    }
   ],
   "source": [
    "# List of  categorical variables:\n",
    "''' \n",
    "dataframe_training = df[['Id', 'MSSubClass', 'MSZoning', 'Street', 'Alley', 'LotShape', 'LandContour', 'Utilities', 'LotConfig',\n",
    "       'LandSlope', 'Neighborhood', 'Condition1', 'Condition2', 'BldgType', \n",
    "   'HouseStyle', 'OverallQual', 'OverallCond', 'YearBuilt', 'YearRemodAdd',\n",
    "       'RoofStyle', 'RoofMatl', 'Exterior1st', 'Exterior2nd', 'MasVnrType',\n",
    "        'ExterQual', 'ExterCond', 'Foundation', 'BsmtQual',\n",
    "       'BsmtCond', 'BsmtExposure', 'BsmtFinType1', 'BsmtFinType2', \n",
    "   'Heating', 'HeatingQC', 'CentralAir', 'Electrical', 'KitchenQual',    \n",
    "       'Functional',  'FireplaceQu', 'GarageType',\n",
    "       'GarageYrBlt', 'GarageFinish',  'GarageQual', \n",
    "   'GarageCond', 'PavedDrive', 'PoolQC', 'Fence', 'MiscFeature', \n",
    "     'MoSold', 'YrSold', 'SaleType', 'SaleCondition']]\n",
    "''' "
   ]
  },
  {
   "cell_type": "markdown",
   "metadata": {},
   "source": [
    "# *Section 7: Split again into training set and test set. Now these sets will include many dummy variables and will not include the original textual categorical variables* "
   ]
  },
  {
   "cell_type": "code",
   "execution_count": 41,
   "metadata": {},
   "outputs": [
    {
     "name": "stdout",
     "output_type": "stream",
     "text": [
      "1\n",
      "1460\n"
     ]
    },
    {
     "data": {
      "text/plain": [
       "1460"
      ]
     },
     "execution_count": 41,
     "metadata": {},
     "output_type": "execute_result"
    }
   ],
   "source": [
    "print(min(df.Id))\n",
    "print(max(df.Id))\n",
    "#1\n",
    "#1460\n",
    "df_training_data_final = training_and_test_data[training_and_test_data['Id']<=1460]\n",
    "len(df_training_data_final)"
   ]
  },
  {
   "cell_type": "code",
   "execution_count": 42,
   "metadata": {},
   "outputs": [
    {
     "data": {
      "text/plain": [
       "1459"
      ]
     },
     "execution_count": 42,
     "metadata": {},
     "output_type": "execute_result"
    }
   ],
   "source": [
    "df_submission_data_final = training_and_test_data[training_and_test_data['Id']>1460]\n",
    "len(df_submission_data_final)"
   ]
  },
  {
   "cell_type": "code",
   "execution_count": 43,
   "metadata": {},
   "outputs": [
    {
     "name": "stdout",
     "output_type": "stream",
     "text": [
      "(1460, 269)\n",
      "(1459, 269)\n"
     ]
    }
   ],
   "source": [
    "print(df_training_data_final.shape)\n",
    "print(df_submission_data_final.shape)"
   ]
  },
  {
   "cell_type": "markdown",
   "metadata": {},
   "source": [
    "# *Section 8: We use the baseline estimator \"DummyRegressor\" as a benchmark.* \n",
    "\n",
    "**The baseline estimator is a benchmark in the sense that we will try to beat the benchmark with more advanced algorithms in the next sections.**"
   ]
  },
  {
   "cell_type": "markdown",
   "metadata": {},
   "source": [
    "**Below we use RMSLE (Root Mean Squared Log Error) as the error within GridSearchCV. Kaggle uses the RMSLE as the error rate to compare the submissions in Kaggle. For this reason we also use the RMSLE.** \n",
    "\n",
    "The RMSLE is beneficial because we do not want to penalize big differences between 𝑦_𝑝𝑟𝑒𝑑icted and 𝑦 when both 𝑦_𝑝𝑟𝑒𝑑icted and 𝑦 are very big numbers. For more info, see https://stats.stackexchange.com/questions/437202/what-is-the-difference-between-an-rmse-and-rmsle-logarithmic-error \n",
    "\n",
    "See the following resource (https://www.kaggle.com/questions-and-answers/60012) for more info about RMSLE and how to use it inside GridSearchCV."
   ]
  },
  {
   "cell_type": "markdown",
   "metadata": {},
   "source": [
    "# Baseline Algorithm "
   ]
  },
  {
   "cell_type": "code",
   "execution_count": 47,
   "metadata": {},
   "outputs": [
    {
     "name": "stdout",
     "output_type": "stream",
     "text": [
      "Fitting 5 folds for each of 1 candidates, totalling 5 fits\n",
      "{}\n",
      "\n",
      "0.40787189050065814\n"
     ]
    }
   ],
   "source": [
    "X = df_training_data_final.copy()\n",
    "X = X.drop('Id',  axis=1)\n",
    "X = X.drop('SalePrice',  axis=1)\n",
    "\n",
    "y = df_training_data_final['SalePrice']\n",
    "\n",
    "from sklearn.dummy import DummyRegressor\n",
    "from sklearn.ensemble import RandomForestRegressor\n",
    "from sklearn.tree import DecisionTreeRegressor\n",
    "from sklearn.linear_model import LinearRegression\n",
    "from sklearn.model_selection import GridSearchCV\n",
    "from sklearn.pipeline import Pipeline\n",
    "from sklearn.preprocessing import RobustScaler\n",
    "from sklearn.decomposition import  PCA\n",
    "import xgboost as xgb\n",
    "\n",
    "\n",
    "# Use make_scorer library because we need to calculate RMSLE as the error.\n",
    "# We use RMSLE as the scoring function, because RMSLE is used by Kaggle (see https://www.kaggle.com/c/house-prices-advanced-regression-techniques/leaderboard)\n",
    "from sklearn.metrics import make_scorer\n",
    "#https://www.kaggle.com/questions-and-answers/60012:\n",
    "from sklearn.metrics import mean_squared_log_error\n",
    "\n",
    "\n",
    "dummy = DummyRegressor(strategy='mean')  \n",
    "\n",
    "\n",
    "\n",
    "linear_reg = RandomForestRegressor(n_estimators=500)  \n",
    "scaler = RobustScaler()\n",
    "#pipeline = Pipeline(steps=[('scaler', scaler),\n",
    "#           ('dummy', linear_reg)])\n",
    "\n",
    "\n",
    "pipeline = Pipeline(steps=[('PCA', PCA(n_components=250)),\n",
    "           ('dummy', dummy)])\n",
    "\n",
    "parameters = {}\n",
    "\n",
    "scorer = make_scorer(mean_squared_log_error, greater_is_better=False)\n",
    "\n",
    "# Perform CV (Cross-validation) and grid search:\n",
    "#https://stackoverflow.com/questions/63473565/valueerror-mean-squared-error-is-not-a-valid-scoring-value\n",
    "grid_search = GridSearchCV(pipeline, parameters, n_jobs=-1, \n",
    "                           verbose=1, scoring = scorer, \n",
    "                           refit=True, cv=5)\n",
    "\n",
    "grid_search.fit(X,y)\n",
    "\n",
    "print(grid_search.best_params_)\n",
    "print(\"\")\n",
    "score = -grid_search.best_score_\n",
    "print(np.sqrt(score))\n",
    "#print(score)"
   ]
  },
  {
   "cell_type": "markdown",
   "metadata": {},
   "source": [
    "**The RMSLE (Root Mean Squared Log Error) is 0.40787 for the baseline algorithm.** "
   ]
  },
  {
   "cell_type": "code",
   "execution_count": 48,
   "metadata": {},
   "outputs": [
    {
     "data": {
      "text/plain": [
       "{'mean_fit_time': array([0.08505249]),\n",
       " 'std_fit_time': array([0.01015399]),\n",
       " 'mean_score_time': array([0.00765839]),\n",
       " 'std_score_time': array([0.00152036]),\n",
       " 'params': [{}],\n",
       " 'split0_test_score': array([-0.15432633]),\n",
       " 'split1_test_score': array([-0.18647923]),\n",
       " 'split2_test_score': array([-0.17182041]),\n",
       " 'split3_test_score': array([-0.16112876]),\n",
       " 'split4_test_score': array([-0.15804265]),\n",
       " 'mean_test_score': array([-0.16635948]),\n",
       " 'std_test_score': array([0.01162715]),\n",
       " 'rank_test_score': array([1], dtype=int32)}"
      ]
     },
     "execution_count": 48,
     "metadata": {},
     "output_type": "execute_result"
    }
   ],
   "source": [
    "grid_search.cv_results_"
   ]
  },
  {
   "cell_type": "markdown",
   "metadata": {},
   "source": [
    "# *Section 9: Machine Learning algorithms (Random Forest Regressor and other algorithms)*"
   ]
  },
  {
   "cell_type": "markdown",
   "metadata": {},
   "source": [
    "# Random Forest Regressor"
   ]
  },
  {
   "cell_type": "code",
   "execution_count": 53,
   "metadata": {},
   "outputs": [
    {
     "name": "stdout",
     "output_type": "stream",
     "text": [
      "Fitting 5 folds for each of 5 candidates, totalling 25 fits\n",
      "{'dummy__max_depth': 300}\n",
      "\n",
      "0.14664940705089352\n"
     ]
    }
   ],
   "source": [
    "X = df_training_data_final.copy()\n",
    "X = X.drop('Id',  axis=1)\n",
    "X = X.drop('SalePrice',  axis=1)\n",
    "\n",
    "y = df_training_data_final['SalePrice']\n",
    "\n",
    "from sklearn.ensemble import RandomForestRegressor\n",
    "from sklearn.tree import DecisionTreeRegressor\n",
    "from sklearn.linear_model import LinearRegression\n",
    "from sklearn.model_selection import GridSearchCV\n",
    "from sklearn.pipeline import Pipeline\n",
    "from sklearn.preprocessing import RobustScaler\n",
    "from sklearn.decomposition import  PCA\n",
    "import xgboost as xgb\n",
    "from sklearn.preprocessing import MinMaxScaler\n",
    "\n",
    "\n",
    "# Use make_scorer library because we need to calculate RMSLE as the error.\n",
    "# We use RMSLE as the scoring function, because RMSLE is used by Kaggle (see https://www.kaggle.com/c/house-prices-advanced-regression-techniques/leaderboard)\n",
    "from sklearn.metrics import make_scorer\n",
    "#https://www.kaggle.com/questions-and-answers/60012:\n",
    "from sklearn.metrics import mean_squared_log_error\n",
    "\n",
    "linear_reg = RandomForestRegressor(n_estimators=500)  \n",
    "scaler = MinMaxScaler()\n",
    "#pipeline = Pipeline(steps=[('scaler', scaler),\n",
    "#           ('dummy', linear_reg)])\n",
    "\n",
    "\n",
    "pipeline = Pipeline(steps=[\n",
    "           #('PCA', PCA(n_components=250)),\n",
    "           ('scaler', scaler),\n",
    "           ('dummy', linear_reg)])\n",
    "\n",
    "parameters = {'dummy__max_depth': [None,500,300,100,50,3,2]}\n",
    "\n",
    "scorer = make_scorer(mean_squared_log_error, greater_is_better=False)\n",
    "\n",
    "# Perform CV (Cross-validation) and grid search:\n",
    "#https://stackoverflow.com/questions/63473565/valueerror-mean-squared-error-is-not-a-valid-scoring-value\n",
    "grid_search = GridSearchCV(pipeline, parameters, n_jobs=-1, \n",
    "                           verbose=1, scoring = scorer, \n",
    "                           refit=True, cv=5)\n",
    "\n",
    "\n",
    "grid_search.fit(X,y)\n",
    "\n",
    "print(grid_search.best_params_)\n",
    "print(\"\")\n",
    "score = -grid_search.best_score_\n",
    "print(np.sqrt(score))\n",
    "#print(score)"
   ]
  },
  {
   "cell_type": "markdown",
   "metadata": {},
   "source": [
    "**The RMSLE (Root Mean Squared Log Error) of Random Forest Regressor is 0.146 (i.e., less than 50% of the RMSLE of the baseline algorithm)**"
   ]
  },
  {
   "cell_type": "markdown",
   "metadata": {},
   "source": [
    "# Lasso regression and grid search"
   ]
  },
  {
   "cell_type": "code",
   "execution_count": 73,
   "metadata": {},
   "outputs": [
    {
     "name": "stdout",
     "output_type": "stream",
     "text": [
      "Fitting 10 folds for each of 8 candidates, totalling 80 fits\n",
      "{'lasso__alpha': 100}\n",
      "\n",
      "0.1446000541540092\n"
     ]
    }
   ],
   "source": [
    "X = df_training_data_final.copy()\n",
    "X = X.drop('Id',  axis=1)\n",
    "X = X.drop('SalePrice',  axis=1)\n",
    "\n",
    "y = df['SalePrice']\n",
    "\n",
    "from sklearn.linear_model import Lasso\n",
    "from sklearn.model_selection import GridSearchCV\n",
    "from sklearn.pipeline import Pipeline\n",
    "# Use make_scorer library because we need to calculate RMSLE as the error.\n",
    "# We use RMSLE as the scoring function, because RMSLE is used by Kaggle (see https://www.kaggle.com/c/house-prices-advanced-regression-techniques/leaderboard)\n",
    "from sklearn.metrics import make_scorer\n",
    "#https://www.kaggle.com/questions-and-answers/60012:\n",
    "from sklearn.metrics import mean_squared_log_error\n",
    "from sklearn.preprocessing import MinMaxScaler\n",
    "\n",
    "lasso = Lasso()  \n",
    "\n",
    "scaler = MinMaxScaler()\n",
    "\n",
    "pipeline = Pipeline(steps=[\n",
    "    ('scaler', scaler), ('lasso', lasso)\n",
    "    ])\n",
    "\n",
    "parameters = {'lasso__alpha': [0.01,0.1,1,10,50,100,1000,10000]}\n",
    "\n",
    "scorer = make_scorer(mean_squared_log_error, greater_is_better=False)\n",
    "\n",
    "# Perform CV (Cross-validation) and grid search:\n",
    "#https://stackoverflow.com/questions/63473565/valueerror-mean-squared-error-is-not-a-valid-scoring-value\n",
    "grid_search = GridSearchCV(pipeline, parameters, n_jobs=-1, \n",
    "                           verbose=1, scoring = scorer, \n",
    "                           refit=True, cv=10)\n",
    "\n",
    "\n",
    "grid_search.fit(X,y)\n",
    "\n",
    "print(grid_search.best_params_)\n",
    "print(\"\")\n",
    "score = -grid_search.best_score_\n",
    "print(np.sqrt(score))\n",
    "#print(score)\n"
   ]
  },
  {
   "cell_type": "markdown",
   "metadata": {},
   "source": [
    "# Ridge regression and grid search "
   ]
  },
  {
   "cell_type": "code",
   "execution_count": 77,
   "metadata": {},
   "outputs": [
    {
     "name": "stdout",
     "output_type": "stream",
     "text": [
      "Fitting 10 folds for each of 10 candidates, totalling 100 fits\n",
      "{'ridge__alpha': 10}\n",
      "\n",
      "0.14539759455229395\n"
     ]
    }
   ],
   "source": [
    "X = df_training_data_final.copy()\n",
    "X = X.drop('Id',  axis=1)\n",
    "X = X.drop('SalePrice',  axis=1)\n",
    "\n",
    "y = df['SalePrice']\n",
    "\n",
    "from sklearn.linear_model import Ridge\n",
    "from sklearn.model_selection import GridSearchCV\n",
    "from sklearn.pipeline import Pipeline\n",
    "# Use make_scorer library because we need to calculate RMSLE as the error.\n",
    "# We use RMSLE as the scoring function, because RMSLE is used by Kaggle (see https://www.kaggle.com/c/house-prices-advanced-regression-techniques/leaderboard)\n",
    "from sklearn.metrics import make_scorer\n",
    "#https://www.kaggle.com/questions-and-answers/60012:\n",
    "from sklearn.metrics import mean_squared_log_error\n",
    "from sklearn.preprocessing import MinMaxScaler\n",
    "\n",
    "ridge = Ridge()  \n",
    "\n",
    "scaler = MinMaxScaler()\n",
    "\n",
    "pipeline = Pipeline(steps=[\n",
    "    ('scaler', scaler), ('ridge', ridge)\n",
    "    ])\n",
    "\n",
    "parameters = {'ridge__alpha': [0.01,0.1,1,5,10,20,50,100,1000,10000]}\n",
    "\n",
    "scorer = make_scorer(mean_squared_log_error, greater_is_better=False)\n",
    "\n",
    "# Perform CV (Cross-validation) and grid search:\n",
    "#https://stackoverflow.com/questions/63473565/valueerror-mean-squared-error-is-not-a-valid-scoring-value\n",
    "grid_search = GridSearchCV(pipeline, parameters, n_jobs=-1, \n",
    "                           verbose=1, scoring = scorer, \n",
    "                           refit=True, cv=10)\n",
    "\n",
    "grid_search.fit(X,y)\n",
    "\n",
    "print(grid_search.best_params_)\n",
    "print(\"\")\n",
    "score = -grid_search.best_score_\n",
    "print(np.sqrt(score))\n",
    "#print(score)"
   ]
  },
  {
   "cell_type": "markdown",
   "metadata": {},
   "source": [
    "**Regression Tree**"
   ]
  },
  {
   "cell_type": "code",
   "execution_count": 82,
   "metadata": {},
   "outputs": [
    {
     "name": "stdout",
     "output_type": "stream",
     "text": [
      "Fitting 5 folds for each of 13 candidates, totalling 65 fits\n",
      "{'dummy__max_depth': 7}\n",
      "\n",
      "0.1955494319260714\n"
     ]
    }
   ],
   "source": [
    "X = df_training_data_final.copy()\n",
    "X = X.drop('Id',  axis=1)\n",
    "X = X.drop('SalePrice',  axis=1)\n",
    "\n",
    "y = df_training_data_final['SalePrice']\n",
    "\n",
    "from sklearn.ensemble import RandomForestRegressor\n",
    "from sklearn.tree import DecisionTreeRegressor\n",
    "from sklearn.linear_model import LinearRegression\n",
    "from sklearn.model_selection import GridSearchCV\n",
    "from sklearn.pipeline import Pipeline\n",
    "from sklearn.preprocessing import RobustScaler\n",
    "from sklearn.decomposition import  PCA\n",
    "import xgboost as xgb\n",
    "from sklearn.preprocessing import MinMaxScaler, RobustScaler, StandardScaler\n",
    "\n",
    "\n",
    "# Use make_scorer library because we need to calculate RMSLE as the error.\n",
    "# We use RMSLE as the scoring function, because RMSLE is used by Kaggle (see https://www.kaggle.com/c/house-prices-advanced-regression-techniques/leaderboard)\n",
    "from sklearn.metrics import make_scorer\n",
    "#https://www.kaggle.com/questions-and-answers/60012:\n",
    "from sklearn.metrics import mean_squared_log_error\n",
    "\n",
    "linear_reg = DecisionTreeRegressor()  \n",
    "scaler = MinMaxScaler()\n",
    "#pipeline = Pipeline(steps=[('scaler', scaler),\n",
    "#           ('dummy', linear_reg)])\n",
    "\n",
    "\n",
    "pipeline = Pipeline(steps=[\n",
    "           #('PCA', PCA(n_components=250)),\n",
    "           ('scaler', scaler),\n",
    "           ('dummy', linear_reg)])\n",
    "\n",
    "parameters = {'dummy__max_depth': [None, 200, 100, 10, 9, 8, 7, 6, 5, 4, 3, 2, 1]}\n",
    "\n",
    "scorer = make_scorer(mean_squared_log_error, greater_is_better=False)\n",
    "\n",
    "# Perform CV (Cross-validation) and grid search:\n",
    "#https://stackoverflow.com/questions/63473565/valueerror-mean-squared-error-is-not-a-valid-scoring-value\n",
    "grid_search = GridSearchCV(pipeline, parameters, n_jobs=-1, \n",
    "                           verbose=1, scoring = scorer, \n",
    "                           refit=True, cv=5)\n",
    "\n",
    "grid_search.fit(X,y)\n",
    "\n",
    "print(grid_search.best_params_)\n",
    "print(\"\")\n",
    "score = -grid_search.best_score_\n",
    "print(np.sqrt(score))\n",
    "#print(score)"
   ]
  },
  {
   "cell_type": "markdown",
   "metadata": {},
   "source": [
    "# Random Forest Regressor algorithm"
   ]
  },
  {
   "cell_type": "code",
   "execution_count": 164,
   "metadata": {},
   "outputs": [
    {
     "name": "stdout",
     "output_type": "stream",
     "text": [
      "Fitting 10 folds for each of 13 candidates, totalling 130 fits\n",
      "{'rf__max_depth': None}\n",
      "\n",
      "0.18319917913977254\n"
     ]
    }
   ],
   "source": [
    "#Specify the features and the target variable: \n",
    "X = df[['LotArea',  'BedroomAbvGr', 'KitchenAbvGr', 'YrSold', 'YearBuilt', 'MoSold', 'YearRemodAdd', 'GrLivArea', \\\n",
    "       'LowQualFinSF', '1stFlrSF', '2ndFlrSF']]\n",
    "#X = df[['LotArea',  'YrSold']]\n",
    "y = df['SalePrice']\n",
    "\n",
    "from sklearn.ensemble import RandomForestRegressor\n",
    "from sklearn.model_selection import GridSearchCV\n",
    "from sklearn.pipeline import Pipeline\n",
    "from sklearn.decomposition import PCA\n",
    "from sklearn.decomposition import TruncatedSVD\n",
    "\n",
    "\n",
    "# Use make_scorer library because we need to calculate RMSLE as the error.\n",
    "# We use RMSLE as the scoring function, because RMSLE is used by Kaggle (see https://www.kaggle.com/c/house-prices-advanced-regression-techniques/leaderboard)\n",
    "from sklearn.metrics import make_scorer\n",
    "#https://www.kaggle.com/questions-and-answers/60012:\n",
    "from sklearn.metrics import mean_squared_log_error\n",
    "\n",
    "rf = RandomForestRegressor()  \n",
    "\n",
    "PCA= TruncatedSVD(n_components=9)\n",
    "\n",
    "pipeline = Pipeline(steps=[\n",
    "                        ('PCA', PCA), \n",
    "                        ('rf', rf)])\n",
    "\n",
    "parameters = {'rf__max_depth': [None, 200, 100, 10, 9, 8, 7, 6, 5, 4, 3, 2, 1]}\n",
    "\n",
    "scorer = make_scorer(mean_squared_log_error, greater_is_better=False)\n",
    "\n",
    "# Perform CV (Cross-validation) and grid search:\n",
    "#https://stackoverflow.com/questions/63473565/valueerror-mean-squared-error-is-not-a-valid-scoring-value\n",
    "grid_search = GridSearchCV(pipeline, parameters, n_jobs=-1, \n",
    "                           verbose=1, scoring = scorer, \n",
    "                           refit=True, cv=10)\n",
    "\n",
    "\n",
    "grid_search.fit(X,y)\n",
    "\n",
    "print(grid_search.best_params_)\n",
    "print(\"\")\n",
    "score = -grid_search.best_score_\n",
    "print(np.sqrt(score))\n",
    "#print(score)\n"
   ]
  },
  {
   "cell_type": "code",
   "execution_count": 148,
   "metadata": {},
   "outputs": [
    {
     "name": "stdout",
     "output_type": "stream",
     "text": [
      "Fitting 10 folds for each of 13 candidates, totalling 130 fits\n",
      "{'rf__max_depth': None}\n",
      "\n",
      "0.1711021105885656\n"
     ]
    }
   ],
   "source": [
    "#Specify the features and the target variable: \n",
    "X = df[['LotArea',  'BedroomAbvGr', 'KitchenAbvGr', 'YrSold', 'YearBuilt', 'MoSold', 'YearRemodAdd', 'GrLivArea', \\\n",
    "       'LowQualFinSF', '1stFlrSF', '2ndFlrSF']]\n",
    "#X = df[['LotArea',  'YrSold']]\n",
    "y = df['SalePrice']\n",
    "\n",
    "from sklearn.ensemble import RandomForestRegressor\n",
    "from sklearn.model_selection import GridSearchCV\n",
    "from sklearn.pipeline import Pipeline\n",
    "from sklearn.decomposition import PCA\n",
    "\n",
    "\n",
    "# Use make_scorer library because we need to calculate RMSLE as the error.\n",
    "# We use RMSLE as the scoring function, because RMSLE is used by Kaggle (see https://www.kaggle.com/c/house-prices-advanced-regression-techniques/leaderboard)\n",
    "from sklearn.metrics import make_scorer\n",
    "#https://www.kaggle.com/questions-and-answers/60012:\n",
    "from sklearn.metrics import mean_squared_log_error\n",
    "\n",
    "rf = RandomForestRegressor()  \n",
    "\n",
    "PCA= PCA(n_components=6)\n",
    "\n",
    "pipeline = Pipeline(steps=[\n",
    "                       # ('PCA', PCA), \n",
    "                        ('rf', rf)])\n",
    "\n",
    "parameters = {'rf__max_depth': [None, 200, 100, 10, 9, 8, 7, 6, 5, 4, 3, 2, 1]}\n",
    "\n",
    "scorer = make_scorer(mean_squared_log_error, greater_is_better=False)\n",
    "\n",
    "# Perform CV (Cross-validation) and grid search:\n",
    "#https://stackoverflow.com/questions/63473565/valueerror-mean-squared-error-is-not-a-valid-scoring-value\n",
    "grid_search = GridSearchCV(pipeline, parameters, n_jobs=-1, \n",
    "                           verbose=1, scoring = scorer, \n",
    "                           refit=True, cv=10)\n",
    "\n",
    "\n",
    "grid_search.fit(X,y)\n",
    "\n",
    "print(grid_search.best_params_)\n",
    "print(\"\")\n",
    "score = -grid_search.best_score_\n",
    "print(np.sqrt(score))\n",
    "#print(score)\n"
   ]
  },
  {
   "cell_type": "code",
   "execution_count": null,
   "metadata": {},
   "outputs": [],
   "source": []
  },
  {
   "cell_type": "code",
   "execution_count": null,
   "metadata": {},
   "outputs": [],
   "source": []
  },
  {
   "cell_type": "code",
   "execution_count": 16,
   "metadata": {},
   "outputs": [
    {
     "data": {
      "text/html": [
       "<div>\n",
       "<style scoped>\n",
       "    .dataframe tbody tr th:only-of-type {\n",
       "        vertical-align: middle;\n",
       "    }\n",
       "\n",
       "    .dataframe tbody tr th {\n",
       "        vertical-align: top;\n",
       "    }\n",
       "\n",
       "    .dataframe thead th {\n",
       "        text-align: right;\n",
       "    }\n",
       "</style>\n",
       "<table border=\"1\" class=\"dataframe\">\n",
       "  <thead>\n",
       "    <tr style=\"text-align: right;\">\n",
       "      <th></th>\n",
       "      <th>Id</th>\n",
       "      <th>MSSubClass</th>\n",
       "      <th>MSZoning</th>\n",
       "      <th>LotFrontage</th>\n",
       "      <th>LotArea</th>\n",
       "      <th>Street</th>\n",
       "      <th>Alley</th>\n",
       "      <th>LotShape</th>\n",
       "      <th>LandContour</th>\n",
       "      <th>Utilities</th>\n",
       "      <th>...</th>\n",
       "      <th>PoolArea</th>\n",
       "      <th>PoolQC</th>\n",
       "      <th>Fence</th>\n",
       "      <th>MiscFeature</th>\n",
       "      <th>MiscVal</th>\n",
       "      <th>MoSold</th>\n",
       "      <th>YrSold</th>\n",
       "      <th>SaleType</th>\n",
       "      <th>SaleCondition</th>\n",
       "      <th>SalePrice</th>\n",
       "    </tr>\n",
       "  </thead>\n",
       "  <tbody>\n",
       "    <tr>\n",
       "      <th>0</th>\n",
       "      <td>1</td>\n",
       "      <td>60</td>\n",
       "      <td>RL</td>\n",
       "      <td>65.0</td>\n",
       "      <td>8450</td>\n",
       "      <td>Pave</td>\n",
       "      <td>NaN</td>\n",
       "      <td>Reg</td>\n",
       "      <td>Lvl</td>\n",
       "      <td>AllPub</td>\n",
       "      <td>...</td>\n",
       "      <td>0</td>\n",
       "      <td>NaN</td>\n",
       "      <td>NaN</td>\n",
       "      <td>NaN</td>\n",
       "      <td>0</td>\n",
       "      <td>2</td>\n",
       "      <td>2008</td>\n",
       "      <td>WD</td>\n",
       "      <td>Normal</td>\n",
       "      <td>208500</td>\n",
       "    </tr>\n",
       "    <tr>\n",
       "      <th>1</th>\n",
       "      <td>2</td>\n",
       "      <td>20</td>\n",
       "      <td>RL</td>\n",
       "      <td>80.0</td>\n",
       "      <td>9600</td>\n",
       "      <td>Pave</td>\n",
       "      <td>NaN</td>\n",
       "      <td>Reg</td>\n",
       "      <td>Lvl</td>\n",
       "      <td>AllPub</td>\n",
       "      <td>...</td>\n",
       "      <td>0</td>\n",
       "      <td>NaN</td>\n",
       "      <td>NaN</td>\n",
       "      <td>NaN</td>\n",
       "      <td>0</td>\n",
       "      <td>5</td>\n",
       "      <td>2007</td>\n",
       "      <td>WD</td>\n",
       "      <td>Normal</td>\n",
       "      <td>181500</td>\n",
       "    </tr>\n",
       "    <tr>\n",
       "      <th>2</th>\n",
       "      <td>3</td>\n",
       "      <td>60</td>\n",
       "      <td>RL</td>\n",
       "      <td>68.0</td>\n",
       "      <td>11250</td>\n",
       "      <td>Pave</td>\n",
       "      <td>NaN</td>\n",
       "      <td>IR1</td>\n",
       "      <td>Lvl</td>\n",
       "      <td>AllPub</td>\n",
       "      <td>...</td>\n",
       "      <td>0</td>\n",
       "      <td>NaN</td>\n",
       "      <td>NaN</td>\n",
       "      <td>NaN</td>\n",
       "      <td>0</td>\n",
       "      <td>9</td>\n",
       "      <td>2008</td>\n",
       "      <td>WD</td>\n",
       "      <td>Normal</td>\n",
       "      <td>223500</td>\n",
       "    </tr>\n",
       "    <tr>\n",
       "      <th>3</th>\n",
       "      <td>4</td>\n",
       "      <td>70</td>\n",
       "      <td>RL</td>\n",
       "      <td>60.0</td>\n",
       "      <td>9550</td>\n",
       "      <td>Pave</td>\n",
       "      <td>NaN</td>\n",
       "      <td>IR1</td>\n",
       "      <td>Lvl</td>\n",
       "      <td>AllPub</td>\n",
       "      <td>...</td>\n",
       "      <td>0</td>\n",
       "      <td>NaN</td>\n",
       "      <td>NaN</td>\n",
       "      <td>NaN</td>\n",
       "      <td>0</td>\n",
       "      <td>2</td>\n",
       "      <td>2006</td>\n",
       "      <td>WD</td>\n",
       "      <td>Abnorml</td>\n",
       "      <td>140000</td>\n",
       "    </tr>\n",
       "    <tr>\n",
       "      <th>4</th>\n",
       "      <td>5</td>\n",
       "      <td>60</td>\n",
       "      <td>RL</td>\n",
       "      <td>84.0</td>\n",
       "      <td>14260</td>\n",
       "      <td>Pave</td>\n",
       "      <td>NaN</td>\n",
       "      <td>IR1</td>\n",
       "      <td>Lvl</td>\n",
       "      <td>AllPub</td>\n",
       "      <td>...</td>\n",
       "      <td>0</td>\n",
       "      <td>NaN</td>\n",
       "      <td>NaN</td>\n",
       "      <td>NaN</td>\n",
       "      <td>0</td>\n",
       "      <td>12</td>\n",
       "      <td>2008</td>\n",
       "      <td>WD</td>\n",
       "      <td>Normal</td>\n",
       "      <td>250000</td>\n",
       "    </tr>\n",
       "    <tr>\n",
       "      <th>...</th>\n",
       "      <td>...</td>\n",
       "      <td>...</td>\n",
       "      <td>...</td>\n",
       "      <td>...</td>\n",
       "      <td>...</td>\n",
       "      <td>...</td>\n",
       "      <td>...</td>\n",
       "      <td>...</td>\n",
       "      <td>...</td>\n",
       "      <td>...</td>\n",
       "      <td>...</td>\n",
       "      <td>...</td>\n",
       "      <td>...</td>\n",
       "      <td>...</td>\n",
       "      <td>...</td>\n",
       "      <td>...</td>\n",
       "      <td>...</td>\n",
       "      <td>...</td>\n",
       "      <td>...</td>\n",
       "      <td>...</td>\n",
       "      <td>...</td>\n",
       "    </tr>\n",
       "    <tr>\n",
       "      <th>1455</th>\n",
       "      <td>1456</td>\n",
       "      <td>60</td>\n",
       "      <td>RL</td>\n",
       "      <td>62.0</td>\n",
       "      <td>7917</td>\n",
       "      <td>Pave</td>\n",
       "      <td>NaN</td>\n",
       "      <td>Reg</td>\n",
       "      <td>Lvl</td>\n",
       "      <td>AllPub</td>\n",
       "      <td>...</td>\n",
       "      <td>0</td>\n",
       "      <td>NaN</td>\n",
       "      <td>NaN</td>\n",
       "      <td>NaN</td>\n",
       "      <td>0</td>\n",
       "      <td>8</td>\n",
       "      <td>2007</td>\n",
       "      <td>WD</td>\n",
       "      <td>Normal</td>\n",
       "      <td>175000</td>\n",
       "    </tr>\n",
       "    <tr>\n",
       "      <th>1456</th>\n",
       "      <td>1457</td>\n",
       "      <td>20</td>\n",
       "      <td>RL</td>\n",
       "      <td>85.0</td>\n",
       "      <td>13175</td>\n",
       "      <td>Pave</td>\n",
       "      <td>NaN</td>\n",
       "      <td>Reg</td>\n",
       "      <td>Lvl</td>\n",
       "      <td>AllPub</td>\n",
       "      <td>...</td>\n",
       "      <td>0</td>\n",
       "      <td>NaN</td>\n",
       "      <td>MnPrv</td>\n",
       "      <td>NaN</td>\n",
       "      <td>0</td>\n",
       "      <td>2</td>\n",
       "      <td>2010</td>\n",
       "      <td>WD</td>\n",
       "      <td>Normal</td>\n",
       "      <td>210000</td>\n",
       "    </tr>\n",
       "    <tr>\n",
       "      <th>1457</th>\n",
       "      <td>1458</td>\n",
       "      <td>70</td>\n",
       "      <td>RL</td>\n",
       "      <td>66.0</td>\n",
       "      <td>9042</td>\n",
       "      <td>Pave</td>\n",
       "      <td>NaN</td>\n",
       "      <td>Reg</td>\n",
       "      <td>Lvl</td>\n",
       "      <td>AllPub</td>\n",
       "      <td>...</td>\n",
       "      <td>0</td>\n",
       "      <td>NaN</td>\n",
       "      <td>GdPrv</td>\n",
       "      <td>Shed</td>\n",
       "      <td>2500</td>\n",
       "      <td>5</td>\n",
       "      <td>2010</td>\n",
       "      <td>WD</td>\n",
       "      <td>Normal</td>\n",
       "      <td>266500</td>\n",
       "    </tr>\n",
       "    <tr>\n",
       "      <th>1458</th>\n",
       "      <td>1459</td>\n",
       "      <td>20</td>\n",
       "      <td>RL</td>\n",
       "      <td>68.0</td>\n",
       "      <td>9717</td>\n",
       "      <td>Pave</td>\n",
       "      <td>NaN</td>\n",
       "      <td>Reg</td>\n",
       "      <td>Lvl</td>\n",
       "      <td>AllPub</td>\n",
       "      <td>...</td>\n",
       "      <td>0</td>\n",
       "      <td>NaN</td>\n",
       "      <td>NaN</td>\n",
       "      <td>NaN</td>\n",
       "      <td>0</td>\n",
       "      <td>4</td>\n",
       "      <td>2010</td>\n",
       "      <td>WD</td>\n",
       "      <td>Normal</td>\n",
       "      <td>142125</td>\n",
       "    </tr>\n",
       "    <tr>\n",
       "      <th>1459</th>\n",
       "      <td>1460</td>\n",
       "      <td>20</td>\n",
       "      <td>RL</td>\n",
       "      <td>75.0</td>\n",
       "      <td>9937</td>\n",
       "      <td>Pave</td>\n",
       "      <td>NaN</td>\n",
       "      <td>Reg</td>\n",
       "      <td>Lvl</td>\n",
       "      <td>AllPub</td>\n",
       "      <td>...</td>\n",
       "      <td>0</td>\n",
       "      <td>NaN</td>\n",
       "      <td>NaN</td>\n",
       "      <td>NaN</td>\n",
       "      <td>0</td>\n",
       "      <td>6</td>\n",
       "      <td>2008</td>\n",
       "      <td>WD</td>\n",
       "      <td>Normal</td>\n",
       "      <td>147500</td>\n",
       "    </tr>\n",
       "  </tbody>\n",
       "</table>\n",
       "<p>1460 rows × 81 columns</p>\n",
       "</div>"
      ],
      "text/plain": [
       "        Id  MSSubClass MSZoning  LotFrontage  LotArea Street Alley LotShape  \\\n",
       "0        1          60       RL         65.0     8450   Pave   NaN      Reg   \n",
       "1        2          20       RL         80.0     9600   Pave   NaN      Reg   \n",
       "2        3          60       RL         68.0    11250   Pave   NaN      IR1   \n",
       "3        4          70       RL         60.0     9550   Pave   NaN      IR1   \n",
       "4        5          60       RL         84.0    14260   Pave   NaN      IR1   \n",
       "...    ...         ...      ...          ...      ...    ...   ...      ...   \n",
       "1455  1456          60       RL         62.0     7917   Pave   NaN      Reg   \n",
       "1456  1457          20       RL         85.0    13175   Pave   NaN      Reg   \n",
       "1457  1458          70       RL         66.0     9042   Pave   NaN      Reg   \n",
       "1458  1459          20       RL         68.0     9717   Pave   NaN      Reg   \n",
       "1459  1460          20       RL         75.0     9937   Pave   NaN      Reg   \n",
       "\n",
       "     LandContour Utilities  ... PoolArea PoolQC  Fence MiscFeature MiscVal  \\\n",
       "0            Lvl    AllPub  ...        0    NaN    NaN         NaN       0   \n",
       "1            Lvl    AllPub  ...        0    NaN    NaN         NaN       0   \n",
       "2            Lvl    AllPub  ...        0    NaN    NaN         NaN       0   \n",
       "3            Lvl    AllPub  ...        0    NaN    NaN         NaN       0   \n",
       "4            Lvl    AllPub  ...        0    NaN    NaN         NaN       0   \n",
       "...          ...       ...  ...      ...    ...    ...         ...     ...   \n",
       "1455         Lvl    AllPub  ...        0    NaN    NaN         NaN       0   \n",
       "1456         Lvl    AllPub  ...        0    NaN  MnPrv         NaN       0   \n",
       "1457         Lvl    AllPub  ...        0    NaN  GdPrv        Shed    2500   \n",
       "1458         Lvl    AllPub  ...        0    NaN    NaN         NaN       0   \n",
       "1459         Lvl    AllPub  ...        0    NaN    NaN         NaN       0   \n",
       "\n",
       "     MoSold YrSold  SaleType  SaleCondition  SalePrice  \n",
       "0         2   2008        WD         Normal     208500  \n",
       "1         5   2007        WD         Normal     181500  \n",
       "2         9   2008        WD         Normal     223500  \n",
       "3         2   2006        WD        Abnorml     140000  \n",
       "4        12   2008        WD         Normal     250000  \n",
       "...     ...    ...       ...            ...        ...  \n",
       "1455      8   2007        WD         Normal     175000  \n",
       "1456      2   2010        WD         Normal     210000  \n",
       "1457      5   2010        WD         Normal     266500  \n",
       "1458      4   2010        WD         Normal     142125  \n",
       "1459      6   2008        WD         Normal     147500  \n",
       "\n",
       "[1460 rows x 81 columns]"
      ]
     },
     "execution_count": 16,
     "metadata": {},
     "output_type": "execute_result"
    }
   ],
   "source": [
    "# appendix\n",
    "\n",
    "\n",
    "df.YrSold.value_counts()\n",
    "\n",
    "df"
   ]
  },
  {
   "cell_type": "code",
   "execution_count": 46,
   "metadata": {},
   "outputs": [
    {
     "name": "stdout",
     "output_type": "stream",
     "text": [
      "Fitting 10 folds for each of 1 candidates, totalling 10 fits\n",
      "{}\n",
      "\n",
      "0.19800899475829054\n"
     ]
    }
   ],
   "source": [
    "# Simple regression with CV: \n",
    "\n",
    "#Specify the features and the target variable: \n",
    "X = df[['LotArea',  'BedroomAbvGr', 'KitchenAbvGr', 'YrSold', 'YearBuilt', 'MoSold', 'YearRemodAdd', 'GrLivArea', \\\n",
    "       'LowQualFinSF', '1stFlrSF', '2ndFlrSF']]\n",
    "#X = df[['LotArea',  'YrSold']]\n",
    "\n",
    "log_price = np.log(df['SalePrice'])\n",
    "y = log_price\n",
    "\n",
    "y = df['SalePrice']\n",
    "\n",
    "\n",
    "from sklearn.linear_model import LinearRegression\n",
    "from sklearn.model_selection import GridSearchCV\n",
    "from sklearn.pipeline import Pipeline\n",
    "\n",
    "# Use make_scorer library because we need to calculate RMSLE as the error.\n",
    "# We use RMSLE as the scoring function, because RMSLE is used by Kaggle (see https://www.kaggle.com/c/house-prices-advanced-regression-techniques/leaderboard)\n",
    "from sklearn.metrics import make_scorer\n",
    "#https://www.kaggle.com/questions-and-answers/60012:\n",
    "from sklearn.metrics import mean_squared_log_error\n",
    "\n",
    "linear_reg = LinearRegression()  \n",
    "\n",
    "pipeline = Pipeline(steps=[('dummy', linear_reg)])\n",
    "\n",
    "parameters = {}\n",
    "\n",
    "scorer = make_scorer(mean_squared_log_error, greater_is_better=False)\n",
    "\n",
    "# Perform CV (Cross-validation) and grid search:\n",
    "#https://stackoverflow.com/questions/63473565/valueerror-mean-squared-error-is-not-a-valid-scoring-value\n",
    "grid_search = GridSearchCV(pipeline, parameters, n_jobs=-1, \n",
    "                           verbose=1, scoring = scorer, \n",
    "                           refit=True, cv=10)\n",
    "\n",
    "\n",
    "grid_search.fit(X,y)\n",
    "\n",
    "print(grid_search.best_params_)\n",
    "print(\"\")\n",
    "score = -grid_search.best_score_\n",
    "print(np.sqrt(score))\n",
    "#print(score)\n"
   ]
  },
  {
   "cell_type": "code",
   "execution_count": 30,
   "metadata": {},
   "outputs": [
    {
     "data": {
      "text/plain": [
       "1.0151574844935336"
      ]
     },
     "execution_count": 30,
     "metadata": {},
     "output_type": "execute_result"
    }
   ],
   "source": [
    "np.exp(0.015043757594613308)"
   ]
  },
  {
   "cell_type": "code",
   "execution_count": 33,
   "metadata": {},
   "outputs": [
    {
     "name": "stdout",
     "output_type": "stream",
     "text": [
      "Fitting 10 folds for each of 8 candidates, totalling 80 fits\n",
      "{'dtr__max_depth': 7}\n",
      "\n",
      "0.20678023829537218\n"
     ]
    }
   ],
   "source": [
    "#Specify the features and the target variable: \n",
    "X = df[['LotArea',  'BedroomAbvGr', 'KitchenAbvGr', 'YrSold', 'YearBuilt', 'MoSold', 'YearRemodAdd', 'GrLivArea', \\\n",
    "       'LowQualFinSF', '1stFlrSF', '2ndFlrSF']]\n",
    "\n",
    "#X = df[['LotArea',  'YrSold']]\n",
    "y = df['SalePrice']\n",
    "# log_price = np.log(df['SalePrice'])\n",
    "#y = log_price\n",
    "\n",
    "\n",
    "from sklearn.tree import DecisionTreeRegressor\n",
    "from sklearn.model_selection import GridSearchCV\n",
    "from sklearn.pipeline import Pipeline\n",
    "\n",
    "from sklearn.decomposition import KernelPCA\n",
    "from sklearn.decomposition import TruncatedSVD\n",
    "\n",
    "# Use make_scorer library because we need to calculate RMSLE as the error.\n",
    "# We use RMSLE as the scoring function, because RMSLE is used by Kaggle (see https://www.kaggle.com/c/house-prices-advanced-regression-techniques/leaderboard)\n",
    "from sklearn.metrics import make_scorer\n",
    "#https://www.kaggle.com/questions-and-answers/60012:\n",
    "from sklearn.metrics import mean_squared_log_error\n",
    "\n",
    "dtr = DecisionTreeRegressor()  \n",
    "\n",
    "PCA= KernelPCA() # PCA()\n",
    "\n",
    "pipeline = Pipeline(steps=[\n",
    "                  # ('PCA', PCA), \n",
    "                   ('dtr', dtr)])\n",
    "\n",
    "parameters = {      'dtr__max_depth': [None, 200, 100, 10,  8, 7, 6, 5, ]}\n",
    "\n",
    "scorer = make_scorer(mean_squared_log_error, greater_is_better=False)\n",
    "\n",
    "# Perform CV (Cross-validation) and grid search:\n",
    "#https://stackoverflow.com/questions/63473565/valueerror-mean-squared-error-is-not-a-valid-scoring-value\n",
    "grid_search = GridSearchCV(pipeline, parameters, n_jobs=-1, \n",
    "                           verbose=1, scoring = scorer, \n",
    "                           refit=True, cv=10)\n",
    "\n",
    "\n",
    "grid_search.fit(X,y)\n",
    "\n",
    "print(grid_search.best_params_)\n",
    "print(\"\")\n",
    "score = -grid_search.best_score_\n",
    "print(np.sqrt(score))\n",
    "#print(score)\n"
   ]
  },
  {
   "cell_type": "markdown",
   "metadata": {},
   "source": [
    "# Split below: "
   ]
  },
  {
   "cell_type": "code",
   "execution_count": 75,
   "metadata": {},
   "outputs": [
    {
     "name": "stdout",
     "output_type": "stream",
     "text": [
      "0.18346837059764784\n"
     ]
    }
   ],
   "source": [
    "X = df[['LotArea',  'BedroomAbvGr', 'KitchenAbvGr', 'YrSold', 'YearBuilt', 'MoSold', 'YearRemodAdd', 'GrLivArea', \\\n",
    "       'LowQualFinSF', '1stFlrSF', '2ndFlrSF']]\n",
    "\n",
    "#X = df[['LotArea',  'YrSold']]\n",
    "y = df['SalePrice']\n",
    "# log_price = np.log(df['SalePrice'])\n",
    "#y = log_price\n",
    "\n",
    "from sklearn.model_selection import train_test_split\n",
    "from sklearn.ensemble import RandomForestRegressor\n",
    "\n",
    "\n",
    "\n",
    "\n",
    "\n",
    "X_train, X_test, y_train, y_test = train_test_split(\n",
    "    X, y, test_size=0.2,  random_state=42)\n",
    "\n",
    "from sklearn.linear_model import LinearRegression\n",
    "\n",
    "from sklearn.metrics import make_scorer\n",
    "from sklearn.metrics import mean_squared_log_error\n",
    "\n",
    "\n",
    "\n",
    "linear_reg = RandomForestRegressor(max_depth=None)  \n",
    "\n",
    "\n",
    "linear_reg.fit(X_train,y_train)\n",
    "y_pred_no_logarithm  = linear_reg.predict(X_test)\n",
    "\n",
    "from sklearn.metrics import mean_squared_log_error\n",
    "MSLE = mean_squared_log_error(y_test, y_pred_no_logarithm)\n",
    "RMSLE = np.sqrt(MSLE)\n",
    "print(RMSLE)\n",
    "# 0.19632371225623785\n",
    "\n",
    "\n"
   ]
  },
  {
   "cell_type": "code",
   "execution_count": 58,
   "metadata": {},
   "outputs": [
    {
     "data": {
      "text/plain": [
       "(array([142390.57299715, 306235.37397117,  98780.69332837]),\n",
       " 892     154500\n",
       " 1105    325000\n",
       " 413     115000\n",
       " Name: SalePrice, dtype: int64)"
      ]
     },
     "execution_count": 58,
     "metadata": {},
     "output_type": "execute_result"
    }
   ],
   "source": [
    "y_pred_no_logarithm[0:3], y_test[0:3]"
   ]
  },
  {
   "cell_type": "code",
   "execution_count": 80,
   "metadata": {},
   "outputs": [
    {
     "name": "stdout",
     "output_type": "stream",
     "text": [
      "0.17719467387858606\n"
     ]
    }
   ],
   "source": [
    "X = df[['LotArea',  'BedroomAbvGr', 'KitchenAbvGr', 'YrSold', 'YearBuilt', 'MoSold', 'YearRemodAdd', 'GrLivArea', \\\n",
    "       'LowQualFinSF', '1stFlrSF', '2ndFlrSF']]\n",
    "\n",
    "#X = df[['LotArea',  'YrSold']]\n",
    "# y = df['SalePrice']\n",
    "log_price = np.log(df['SalePrice'])\n",
    "y = log_price\n",
    "\n",
    "\n",
    "\n",
    "\n",
    "\n",
    "\n",
    "from sklearn.model_selection import train_test_split\n",
    "from sklearn.ensemble import RandomForestRegressor\n",
    "\n",
    "\n",
    "\n",
    "\n",
    "\n",
    "X_train, X_test, y_train, y_test = train_test_split(\n",
    "    X, y, test_size=0.2,  random_state=42)\n",
    "\n",
    "from sklearn.linear_model import LinearRegression\n",
    "\n",
    "from sklearn.metrics import make_scorer\n",
    "from sklearn.metrics import mean_squared_log_error\n",
    "\n",
    "\n",
    "\n",
    "linear_reg = RandomForestRegressor(max_depth=None)  \n",
    "\n",
    "\n",
    "linear_reg.fit(X_train,y_train)\n",
    "y_pred_WITH_logarithm  = linear_reg.predict(X_test)\n",
    "\n",
    "\n",
    "\n",
    "\n",
    "\n",
    "recreate_true_y_test = np.exp(y_test)\n",
    "recreate_y_predicted_WITHOUT_LOG  = np.exp(y_pred_WITH_logarithm)\n",
    "\n",
    "\n",
    "\n",
    "from sklearn.metrics import mean_squared_log_error\n",
    "\n",
    "\n",
    "MSLE = mean_squared_log_error(recreate_true_y_test, recreate_y_predicted_WITHOUT_LOG)\n",
    "RMSLE = np.sqrt(MSLE)\n",
    "print(RMSLE)\n",
    "# 0.19632371225623785\n",
    "# 0.19197035395534598\n"
   ]
  },
  {
   "cell_type": "code",
   "execution_count": null,
   "metadata": {},
   "outputs": [],
   "source": []
  },
  {
   "cell_type": "code",
   "execution_count": 82,
   "metadata": {},
   "outputs": [
    {
     "ename": "ValueError",
     "evalue": "Expected 2D array, got 1D array instead:\narray=[208500. 181500. 223500. ... 266500. 142125. 147500.].\nReshape your data either using array.reshape(-1, 1) if your data has a single feature or array.reshape(1, -1) if it contains a single sample.",
     "output_type": "error",
     "traceback": [
      "\u001b[0;31m---------------------------------------------------------------------------\u001b[0m",
      "\u001b[0;31mValueError\u001b[0m                                Traceback (most recent call last)",
      "\u001b[0;32m<ipython-input-82-0d855aa2c5c2>\u001b[0m in \u001b[0;36m<module>\u001b[0;34m\u001b[0m\n\u001b[1;32m     10\u001b[0m \u001b[0;32mfrom\u001b[0m \u001b[0msklearn\u001b[0m\u001b[0;34m.\u001b[0m\u001b[0mpreprocessing\u001b[0m \u001b[0;32mimport\u001b[0m \u001b[0mStandardScaler\u001b[0m\u001b[0;34m\u001b[0m\u001b[0;34m\u001b[0m\u001b[0m\n\u001b[1;32m     11\u001b[0m \u001b[0mscaler_1\u001b[0m \u001b[0;34m=\u001b[0m \u001b[0mStandardScaler\u001b[0m\u001b[0;34m(\u001b[0m\u001b[0;34m)\u001b[0m\u001b[0;34m\u001b[0m\u001b[0;34m\u001b[0m\u001b[0m\n\u001b[0;32m---> 12\u001b[0;31m \u001b[0mscaler_1\u001b[0m\u001b[0;34m.\u001b[0m\u001b[0mfit\u001b[0m\u001b[0;34m(\u001b[0m\u001b[0mdf\u001b[0m\u001b[0;34m[\u001b[0m\u001b[0;34m'SalePrice'\u001b[0m\u001b[0;34m]\u001b[0m\u001b[0;34m)\u001b[0m\u001b[0;34m\u001b[0m\u001b[0;34m\u001b[0m\u001b[0m\n\u001b[0m\u001b[1;32m     13\u001b[0m \u001b[0mscaled_Sale_Price\u001b[0m  \u001b[0;34m=\u001b[0m \u001b[0mscaler_1\u001b[0m\u001b[0;34m.\u001b[0m\u001b[0mtransform\u001b[0m\u001b[0;34m(\u001b[0m\u001b[0mdf\u001b[0m\u001b[0;34m[\u001b[0m\u001b[0;34m'SalePrice'\u001b[0m\u001b[0;34m]\u001b[0m\u001b[0;34m)\u001b[0m\u001b[0;34m\u001b[0m\u001b[0;34m\u001b[0m\u001b[0m\n\u001b[1;32m     14\u001b[0m \u001b[0my\u001b[0m \u001b[0;34m=\u001b[0m \u001b[0mscaled_Sale_Price\u001b[0m\u001b[0;34m\u001b[0m\u001b[0;34m\u001b[0m\u001b[0m\n",
      "\u001b[0;32m~/.pyenv/versions/3.7.7/envs/lewagon/lib/python3.7/site-packages/sklearn/preprocessing/_data.py\u001b[0m in \u001b[0;36mfit\u001b[0;34m(self, X, y, sample_weight)\u001b[0m\n\u001b[1;32m    725\u001b[0m         \u001b[0;31m# Reset internal state before fitting\u001b[0m\u001b[0;34m\u001b[0m\u001b[0;34m\u001b[0m\u001b[0;34m\u001b[0m\u001b[0m\n\u001b[1;32m    726\u001b[0m         \u001b[0mself\u001b[0m\u001b[0;34m.\u001b[0m\u001b[0m_reset\u001b[0m\u001b[0;34m(\u001b[0m\u001b[0;34m)\u001b[0m\u001b[0;34m\u001b[0m\u001b[0;34m\u001b[0m\u001b[0m\n\u001b[0;32m--> 727\u001b[0;31m         \u001b[0;32mreturn\u001b[0m \u001b[0mself\u001b[0m\u001b[0;34m.\u001b[0m\u001b[0mpartial_fit\u001b[0m\u001b[0;34m(\u001b[0m\u001b[0mX\u001b[0m\u001b[0;34m,\u001b[0m \u001b[0my\u001b[0m\u001b[0;34m,\u001b[0m \u001b[0msample_weight\u001b[0m\u001b[0;34m)\u001b[0m\u001b[0;34m\u001b[0m\u001b[0;34m\u001b[0m\u001b[0m\n\u001b[0m\u001b[1;32m    728\u001b[0m \u001b[0;34m\u001b[0m\u001b[0m\n\u001b[1;32m    729\u001b[0m     \u001b[0;32mdef\u001b[0m \u001b[0mpartial_fit\u001b[0m\u001b[0;34m(\u001b[0m\u001b[0mself\u001b[0m\u001b[0;34m,\u001b[0m \u001b[0mX\u001b[0m\u001b[0;34m,\u001b[0m \u001b[0my\u001b[0m\u001b[0;34m=\u001b[0m\u001b[0;32mNone\u001b[0m\u001b[0;34m,\u001b[0m \u001b[0msample_weight\u001b[0m\u001b[0;34m=\u001b[0m\u001b[0;32mNone\u001b[0m\u001b[0;34m)\u001b[0m\u001b[0;34m:\u001b[0m\u001b[0;34m\u001b[0m\u001b[0;34m\u001b[0m\u001b[0m\n",
      "\u001b[0;32m~/.pyenv/versions/3.7.7/envs/lewagon/lib/python3.7/site-packages/sklearn/preprocessing/_data.py\u001b[0m in \u001b[0;36mpartial_fit\u001b[0;34m(self, X, y, sample_weight)\u001b[0m\n\u001b[1;32m    763\u001b[0m         X = self._validate_data(X, accept_sparse=('csr', 'csc'),\n\u001b[1;32m    764\u001b[0m                                 \u001b[0mestimator\u001b[0m\u001b[0;34m=\u001b[0m\u001b[0mself\u001b[0m\u001b[0;34m,\u001b[0m \u001b[0mdtype\u001b[0m\u001b[0;34m=\u001b[0m\u001b[0mFLOAT_DTYPES\u001b[0m\u001b[0;34m,\u001b[0m\u001b[0;34m\u001b[0m\u001b[0;34m\u001b[0m\u001b[0m\n\u001b[0;32m--> 765\u001b[0;31m                                 force_all_finite='allow-nan', reset=first_call)\n\u001b[0m\u001b[1;32m    766\u001b[0m         \u001b[0mn_features\u001b[0m \u001b[0;34m=\u001b[0m \u001b[0mX\u001b[0m\u001b[0;34m.\u001b[0m\u001b[0mshape\u001b[0m\u001b[0;34m[\u001b[0m\u001b[0;36m1\u001b[0m\u001b[0;34m]\u001b[0m\u001b[0;34m\u001b[0m\u001b[0;34m\u001b[0m\u001b[0m\n\u001b[1;32m    767\u001b[0m \u001b[0;34m\u001b[0m\u001b[0m\n",
      "\u001b[0;32m~/.pyenv/versions/3.7.7/envs/lewagon/lib/python3.7/site-packages/sklearn/base.py\u001b[0m in \u001b[0;36m_validate_data\u001b[0;34m(self, X, y, reset, validate_separately, **check_params)\u001b[0m\n\u001b[1;32m    419\u001b[0m             \u001b[0mout\u001b[0m \u001b[0;34m=\u001b[0m \u001b[0mX\u001b[0m\u001b[0;34m\u001b[0m\u001b[0;34m\u001b[0m\u001b[0m\n\u001b[1;32m    420\u001b[0m         \u001b[0;32melif\u001b[0m \u001b[0misinstance\u001b[0m\u001b[0;34m(\u001b[0m\u001b[0my\u001b[0m\u001b[0;34m,\u001b[0m \u001b[0mstr\u001b[0m\u001b[0;34m)\u001b[0m \u001b[0;32mand\u001b[0m \u001b[0my\u001b[0m \u001b[0;34m==\u001b[0m \u001b[0;34m'no_validation'\u001b[0m\u001b[0;34m:\u001b[0m\u001b[0;34m\u001b[0m\u001b[0;34m\u001b[0m\u001b[0m\n\u001b[0;32m--> 421\u001b[0;31m             \u001b[0mX\u001b[0m \u001b[0;34m=\u001b[0m \u001b[0mcheck_array\u001b[0m\u001b[0;34m(\u001b[0m\u001b[0mX\u001b[0m\u001b[0;34m,\u001b[0m \u001b[0;34m**\u001b[0m\u001b[0mcheck_params\u001b[0m\u001b[0;34m)\u001b[0m\u001b[0;34m\u001b[0m\u001b[0;34m\u001b[0m\u001b[0m\n\u001b[0m\u001b[1;32m    422\u001b[0m             \u001b[0mout\u001b[0m \u001b[0;34m=\u001b[0m \u001b[0mX\u001b[0m\u001b[0;34m\u001b[0m\u001b[0;34m\u001b[0m\u001b[0m\n\u001b[1;32m    423\u001b[0m         \u001b[0;32melse\u001b[0m\u001b[0;34m:\u001b[0m\u001b[0;34m\u001b[0m\u001b[0;34m\u001b[0m\u001b[0m\n",
      "\u001b[0;32m~/.pyenv/versions/3.7.7/envs/lewagon/lib/python3.7/site-packages/sklearn/utils/validation.py\u001b[0m in \u001b[0;36minner_f\u001b[0;34m(*args, **kwargs)\u001b[0m\n\u001b[1;32m     61\u001b[0m             \u001b[0mextra_args\u001b[0m \u001b[0;34m=\u001b[0m \u001b[0mlen\u001b[0m\u001b[0;34m(\u001b[0m\u001b[0margs\u001b[0m\u001b[0;34m)\u001b[0m \u001b[0;34m-\u001b[0m \u001b[0mlen\u001b[0m\u001b[0;34m(\u001b[0m\u001b[0mall_args\u001b[0m\u001b[0;34m)\u001b[0m\u001b[0;34m\u001b[0m\u001b[0;34m\u001b[0m\u001b[0m\n\u001b[1;32m     62\u001b[0m             \u001b[0;32mif\u001b[0m \u001b[0mextra_args\u001b[0m \u001b[0;34m<=\u001b[0m \u001b[0;36m0\u001b[0m\u001b[0;34m:\u001b[0m\u001b[0;34m\u001b[0m\u001b[0;34m\u001b[0m\u001b[0m\n\u001b[0;32m---> 63\u001b[0;31m                 \u001b[0;32mreturn\u001b[0m \u001b[0mf\u001b[0m\u001b[0;34m(\u001b[0m\u001b[0;34m*\u001b[0m\u001b[0margs\u001b[0m\u001b[0;34m,\u001b[0m \u001b[0;34m**\u001b[0m\u001b[0mkwargs\u001b[0m\u001b[0;34m)\u001b[0m\u001b[0;34m\u001b[0m\u001b[0;34m\u001b[0m\u001b[0m\n\u001b[0m\u001b[1;32m     64\u001b[0m \u001b[0;34m\u001b[0m\u001b[0m\n\u001b[1;32m     65\u001b[0m             \u001b[0;31m# extra_args > 0\u001b[0m\u001b[0;34m\u001b[0m\u001b[0;34m\u001b[0m\u001b[0;34m\u001b[0m\u001b[0m\n",
      "\u001b[0;32m~/.pyenv/versions/3.7.7/envs/lewagon/lib/python3.7/site-packages/sklearn/utils/validation.py\u001b[0m in \u001b[0;36mcheck_array\u001b[0;34m(array, accept_sparse, accept_large_sparse, dtype, order, copy, force_all_finite, ensure_2d, allow_nd, ensure_min_samples, ensure_min_features, estimator)\u001b[0m\n\u001b[1;32m    639\u001b[0m                     \u001b[0;34m\"Reshape your data either using array.reshape(-1, 1) if \"\u001b[0m\u001b[0;34m\u001b[0m\u001b[0;34m\u001b[0m\u001b[0m\n\u001b[1;32m    640\u001b[0m                     \u001b[0;34m\"your data has a single feature or array.reshape(1, -1) \"\u001b[0m\u001b[0;34m\u001b[0m\u001b[0;34m\u001b[0m\u001b[0m\n\u001b[0;32m--> 641\u001b[0;31m                     \"if it contains a single sample.\".format(array))\n\u001b[0m\u001b[1;32m    642\u001b[0m \u001b[0;34m\u001b[0m\u001b[0m\n\u001b[1;32m    643\u001b[0m         \u001b[0;31m# make sure we actually converted to numeric:\u001b[0m\u001b[0;34m\u001b[0m\u001b[0;34m\u001b[0m\u001b[0;34m\u001b[0m\u001b[0m\n",
      "\u001b[0;31mValueError\u001b[0m: Expected 2D array, got 1D array instead:\narray=[208500. 181500. 223500. ... 266500. 142125. 147500.].\nReshape your data either using array.reshape(-1, 1) if your data has a single feature or array.reshape(1, -1) if it contains a single sample."
     ]
    }
   ],
   "source": [
    "X = df[['LotArea',  'BedroomAbvGr', 'KitchenAbvGr', 'YrSold', 'YearBuilt', 'MoSold', 'YearRemodAdd', 'GrLivArea', \\\n",
    "       'LowQualFinSF', '1stFlrSF', '2ndFlrSF']]\n",
    "\n",
    "#X = df[['LotArea',  'YrSold']]\n",
    "# y = df['SalePrice']\n",
    "# log_price = np.log(df['SalePrice'])\n",
    "# y = log_price\n",
    "\n",
    "\n",
    "from sklearn.preprocessing import StandardScaler\n",
    "scaler_1 = StandardScaler()\n",
    "scaler_1.fit(df['SalePrice'])\n",
    "scaled_Sale_Price  = scaler_1.transform(df['SalePrice'])\n",
    "y = scaled_Sale_Price\n",
    "\n",
    "\n",
    "\n",
    "\n",
    "from sklearn.model_selection import train_test_split\n",
    "from sklearn.ensemble import RandomForestRegressor\n",
    "\n",
    "\n",
    "\n",
    "\n",
    "\n",
    "X_train, X_test, y_train, y_test = train_test_split(\n",
    "    X, y, test_size=0.2,  random_state=42)\n",
    "\n",
    "from sklearn.linear_model import LinearRegression\n",
    "\n",
    "from sklearn.metrics import make_scorer\n",
    "from sklearn.metrics import mean_squared_log_error\n",
    "\n",
    "\n",
    "\n",
    "linear_reg = RandomForestRegressor(max_depth=None)  \n",
    "\n",
    "\n",
    "linear_reg.fit(X_train,y_train)\n",
    "y_pred_WITH_STANDARDIZATION   = linear_reg.predict(X_test)\n",
    "\n",
    "\n",
    "\n",
    "\n",
    "\n",
    "\n",
    "\n",
    "\n",
    "from sklearn.metrics import mean_squared_log_error\n",
    "\n",
    "\n",
    "MSLE = mean_squared_log_error(y_test, y_pred_WITH_STANDARDIZATION)\n",
    "RMSLE = np.sqrt(MSLE)\n",
    "print(RMSLE)\n",
    "# 0.19632371225623785\n",
    "# 0.19197035395534598\n",
    "\n"
   ]
  },
  {
   "cell_type": "code",
   "execution_count": null,
   "metadata": {},
   "outputs": [],
   "source": []
  },
  {
   "cell_type": "code",
   "execution_count": 128,
   "metadata": {},
   "outputs": [
    {
     "ename": "AttributeError",
     "evalue": "'DataFrame' object has no attribute 'SalePrice'",
     "output_type": "error",
     "traceback": [
      "\u001b[0;31m---------------------------------------------------------------------------\u001b[0m",
      "\u001b[0;31mAttributeError\u001b[0m                            Traceback (most recent call last)",
      "\u001b[0;32m<ipython-input-128-205de4f24843>\u001b[0m in \u001b[0;36m<module>\u001b[0;34m\u001b[0m\n\u001b[0;32m----> 1\u001b[0;31m \u001b[0mtest_df\u001b[0m\u001b[0;34m.\u001b[0m\u001b[0mSalePrice\u001b[0m\u001b[0;34m.\u001b[0m\u001b[0misnull\u001b[0m\u001b[0;34m(\u001b[0m\u001b[0;34m)\u001b[0m\u001b[0;34m.\u001b[0m\u001b[0msum\u001b[0m\u001b[0;34m(\u001b[0m\u001b[0;34m)\u001b[0m\u001b[0;34m\u001b[0m\u001b[0;34m\u001b[0m\u001b[0m\n\u001b[0m",
      "\u001b[0;32m~/.pyenv/versions/3.7.7/envs/lewagon/lib/python3.7/site-packages/pandas/core/generic.py\u001b[0m in \u001b[0;36m__getattr__\u001b[0;34m(self, name)\u001b[0m\n\u001b[1;32m   5137\u001b[0m             \u001b[0;32mif\u001b[0m \u001b[0mself\u001b[0m\u001b[0;34m.\u001b[0m\u001b[0m_info_axis\u001b[0m\u001b[0;34m.\u001b[0m\u001b[0m_can_hold_identifiers_and_holds_name\u001b[0m\u001b[0;34m(\u001b[0m\u001b[0mname\u001b[0m\u001b[0;34m)\u001b[0m\u001b[0;34m:\u001b[0m\u001b[0;34m\u001b[0m\u001b[0;34m\u001b[0m\u001b[0m\n\u001b[1;32m   5138\u001b[0m                 \u001b[0;32mreturn\u001b[0m \u001b[0mself\u001b[0m\u001b[0;34m[\u001b[0m\u001b[0mname\u001b[0m\u001b[0;34m]\u001b[0m\u001b[0;34m\u001b[0m\u001b[0;34m\u001b[0m\u001b[0m\n\u001b[0;32m-> 5139\u001b[0;31m             \u001b[0;32mreturn\u001b[0m \u001b[0mobject\u001b[0m\u001b[0;34m.\u001b[0m\u001b[0m__getattribute__\u001b[0m\u001b[0;34m(\u001b[0m\u001b[0mself\u001b[0m\u001b[0;34m,\u001b[0m \u001b[0mname\u001b[0m\u001b[0;34m)\u001b[0m\u001b[0;34m\u001b[0m\u001b[0;34m\u001b[0m\u001b[0m\n\u001b[0m\u001b[1;32m   5140\u001b[0m \u001b[0;34m\u001b[0m\u001b[0m\n\u001b[1;32m   5141\u001b[0m     \u001b[0;32mdef\u001b[0m \u001b[0m__setattr__\u001b[0m\u001b[0;34m(\u001b[0m\u001b[0mself\u001b[0m\u001b[0;34m,\u001b[0m \u001b[0mname\u001b[0m\u001b[0;34m:\u001b[0m \u001b[0mstr\u001b[0m\u001b[0;34m,\u001b[0m \u001b[0mvalue\u001b[0m\u001b[0;34m)\u001b[0m \u001b[0;34m->\u001b[0m \u001b[0;32mNone\u001b[0m\u001b[0;34m:\u001b[0m\u001b[0;34m\u001b[0m\u001b[0;34m\u001b[0m\u001b[0m\n",
      "\u001b[0;31mAttributeError\u001b[0m: 'DataFrame' object has no attribute 'SalePrice'"
     ]
    }
   ],
   "source": [
    "test_df.SalePrice.isnull().sum()"
   ]
  },
  {
   "cell_type": "code",
   "execution_count": 134,
   "metadata": {},
   "outputs": [
    {
     "data": {
      "text/plain": [
       "0     Unf\n",
       "1     Unf\n",
       "2     Unf\n",
       "3     Unf\n",
       "4     Unf\n",
       "5     Unf\n",
       "6     Unf\n",
       "7     BLQ\n",
       "8     Unf\n",
       "9     Unf\n",
       "10    Unf\n",
       "11    Unf\n",
       "12    Unf\n",
       "13    Unf\n",
       "14    Unf\n",
       "15    Unf\n",
       "16    Unf\n",
       "17    NaN\n",
       "18    Unf\n",
       "19    Unf\n",
       "Name: BsmtFinType2, dtype: object"
      ]
     },
     "execution_count": 134,
     "metadata": {},
     "output_type": "execute_result"
    }
   ],
   "source": [
    "df.BsmtFinType2.head(20)"
   ]
  },
  {
   "cell_type": "code",
   "execution_count": 154,
   "metadata": {},
   "outputs": [],
   "source": [
    "df.to_csv('data/TRAILLLLLLLLLLLLLS2.csv')"
   ]
  },
  {
   "cell_type": "code",
   "execution_count": 158,
   "metadata": {},
   "outputs": [
    {
     "data": {
      "text/plain": [
       "str"
      ]
     },
     "execution_count": 158,
     "metadata": {},
     "output_type": "execute_result"
    }
   ],
   "source": [
    "type(df.LotFrontage[7])"
   ]
  },
  {
   "cell_type": "code",
   "execution_count": null,
   "metadata": {},
   "outputs": [],
   "source": [
    "#df = df.drop(['Alley', 'PoolQC', 'Fence', 'MiscFeature', 'MiscVal', 'FireplaceQu'], axis=1)\n",
    "#test_df = test_df.drop(['Alley', 'PoolQC', 'Fence', 'MiscFeature', 'MiscVal', 'FireplaceQu'], axis=1)\n",
    "\n",
    "\n",
    "\n",
    "\n",
    "\n",
    "\n",
    "\n",
    "\n",
    "''' \n",
    "for i in df.columns:\n",
    "    print(i)\n",
    "    print(len(df[df[i]=='NA'])) \n",
    "'''     \n",
    "\n",
    "\n",
    "\n",
    "df[['MSSubClass', 'MSZoning', 'Street',\n",
    "       'Alley', 'LotShape', 'LandContour', 'Utilities', 'LotConfig',\n",
    "       'LandSlope', 'Neighborhood', 'Condition1', 'Condition2', 'BldgType']]\n",
    "\n",
    "\n",
    "df[['HouseStyle', 'OverallQual', 'OverallCond', 'YearBuilt', 'YearRemodAdd',\n",
    "       'RoofStyle', 'RoofMatl', 'Exterior1st', 'Exterior2nd', 'MasVnrType',\n",
    "        'ExterQual', 'ExterCond', 'Foundation', 'BsmtQual',\n",
    "       'BsmtCond', 'BsmtExposure', 'BsmtFinType1', 'BsmtFinType2' ]]\n",
    "\n",
    "\n",
    "df[['Heating', 'HeatingQC', 'CentralAir', 'Electrical', 'KitchenQual',    \n",
    "       'Functional',  'FireplaceQu', 'GarageType',\n",
    "       'GarageYrBlt', 'GarageFinish',  'GarageQual']] \n",
    "\n",
    "\n",
    "df[['GarageCond', 'PavedDrive', \n",
    "    'PoolQC',        'Fence', 'MiscFeature', \n",
    "     'MoSold', 'YrSold', 'SaleType',\n",
    "       'SaleCondition']]"
   ]
  },
  {
   "cell_type": "code",
   "execution_count": 45,
   "metadata": {},
   "outputs": [
    {
     "name": "stdout",
     "output_type": "stream",
     "text": [
      "(1460, 269)\n",
      "Fitting 10 folds for each of 8 candidates, totalling 80 fits\n",
      "{'dummy__max_depth': 10}\n",
      "\n",
      "0.19274275211830477\n"
     ]
    }
   ],
   "source": [
    "print(df_training_data_final.shape)\n",
    "\n",
    "\n",
    "X = df_training_data_final.copy()\n",
    "X = X.drop('Id',  axis=1)\n",
    "X = X.drop('SalePrice',  axis=1)\n",
    "\n",
    "y = df_training_data_final['SalePrice']\n",
    "\n",
    "\n",
    "\n",
    "\n",
    "from sklearn.tree import DecisionTreeRegressor\n",
    "\n",
    "from sklearn.linear_model import LinearRegression\n",
    "from sklearn.model_selection import GridSearchCV\n",
    "from sklearn.pipeline import Pipeline\n",
    "\n",
    "# Use make_scorer library because we need to calculate RMSLE as the error.\n",
    "# We use RMSLE as the scoring function, because RMSLE is used by Kaggle (see https://www.kaggle.com/c/house-prices-advanced-regression-techniques/leaderboard)\n",
    "from sklearn.metrics import make_scorer\n",
    "#https://www.kaggle.com/questions-and-answers/60012:\n",
    "from sklearn.metrics import mean_squared_log_error\n",
    "\n",
    "linear_reg = DecisionTreeRegressor()  \n",
    "\n",
    "pipeline = Pipeline(steps=[('dummy', linear_reg)])\n",
    "\n",
    "parameters = {'dummy__max_depth': [None,100,50,20,10,5,3,2]}\n",
    "\n",
    "scorer = make_scorer(mean_squared_log_error, greater_is_better=False)\n",
    "\n",
    "# Perform CV (Cross-validation) and grid search:\n",
    "#https://stackoverflow.com/questions/63473565/valueerror-mean-squared-error-is-not-a-valid-scoring-value\n",
    "grid_search = GridSearchCV(pipeline, parameters, n_jobs=-1, \n",
    "                           verbose=1, scoring = scorer, \n",
    "                           refit=True, cv=10)\n",
    "\n",
    "\n",
    "grid_search.fit(X,y)\n",
    "\n",
    "print(grid_search.best_params_)\n",
    "print(\"\")\n",
    "score = -grid_search.best_score_\n",
    "print(np.sqrt(score))\n",
    "#print(score)\n",
    "\n",
    "\n",
    "\n"
   ]
  },
  {
   "cell_type": "code",
   "execution_count": 489,
   "metadata": {},
   "outputs": [
    {
     "name": "stdout",
     "output_type": "stream",
     "text": [
      "Fitting 10 folds for each of 7 candidates, totalling 70 fits\n",
      "{'dummy__max_depth': 50}\n",
      "\n",
      "0.17865580185746527\n"
     ]
    }
   ],
   "source": [
    "X = df_training_data_final.copy()\n",
    "X = X.drop('Id',  axis=1)\n",
    "X = X.drop('SalePrice',  axis=1)\n",
    "\n",
    "y = df_training_data_final['SalePrice']\n",
    "\n",
    "\n",
    "\n",
    "from sklearn.ensemble import RandomForestRegressor\n",
    "from sklearn.tree import DecisionTreeRegressor\n",
    "from sklearn.linear_model import LinearRegression\n",
    "from sklearn.model_selection import GridSearchCV\n",
    "from sklearn.pipeline import Pipeline\n",
    "from sklearn.preprocessing import RobustScaler\n",
    "from sklearn.decomposition import  PCA\n",
    "import xgboost as xgb\n",
    "\n",
    "\n",
    "# Use make_scorer library because we need to calculate RMSLE as the error.\n",
    "# We use RMSLE as the scoring function, because RMSLE is used by Kaggle (see https://www.kaggle.com/c/house-prices-advanced-regression-techniques/leaderboard)\n",
    "from sklearn.metrics import make_scorer\n",
    "#https://www.kaggle.com/questions-and-answers/60012:\n",
    "from sklearn.metrics import mean_squared_log_error\n",
    "\n",
    "linear_reg = RandomForestRegressor(n_estimators=500)  \n",
    "scaler = RobustScaler()\n",
    "#pipeline = Pipeline(steps=[('scaler', scaler),\n",
    "#           ('dummy', linear_reg)])\n",
    "\n",
    "\n",
    "pipeline = Pipeline(steps=[('PCA', PCA(n_components=250)),\n",
    "           ('dummy', linear_reg)])\n",
    "\n",
    "parameters = {'dummy__max_depth': [None,500, 300, 100,50,3,2]}\n",
    "\n",
    "scorer = make_scorer(mean_squared_log_error, greater_is_better=False)\n",
    "\n",
    "# Perform CV (Cross-validation) and grid search:\n",
    "#https://stackoverflow.com/questions/63473565/valueerror-mean-squared-error-is-not-a-valid-scoring-value\n",
    "grid_search = GridSearchCV(pipeline, parameters, n_jobs=-1, \n",
    "                           verbose=1, scoring = scorer, \n",
    "                           refit=True, cv=5)\n",
    "\n",
    "\n",
    "grid_search.fit(X,y)\n",
    "\n",
    "print(grid_search.best_params_)\n",
    "print(\"\")\n",
    "score = -grid_search.best_score_\n",
    "print(np.sqrt(score))\n",
    "#print(score)"
   ]
  },
  {
   "cell_type": "code",
   "execution_count": 490,
   "metadata": {},
   "outputs": [
    {
     "data": {
      "text/plain": [
       "(1460, 267)"
      ]
     },
     "execution_count": 490,
     "metadata": {},
     "output_type": "execute_result"
    }
   ],
   "source": [
    "X.shape"
   ]
  },
  {
   "cell_type": "code",
   "execution_count": 500,
   "metadata": {},
   "outputs": [
    {
     "name": "stdout",
     "output_type": "stream",
     "text": [
      "Fitting 5 folds for each of 4 candidates, totalling 20 fits\n",
      "{'dummy__max_depth': 2}\n",
      "\n",
      "0.11675763612185798\n"
     ]
    }
   ],
   "source": [
    "# xgboost \n",
    "\n",
    "\n",
    "\n",
    "\n",
    "X = df_training_data_final.copy()\n",
    "X = X.drop('Id',  axis=1)\n",
    "X = X.drop('SalePrice',  axis=1)[df_training_data_final['SalePrice']>214000]\n",
    "\n",
    "y = df_training_data_final['SalePrice'][df_training_data_final['SalePrice']>214000]\n",
    "\n",
    "\n",
    "\n",
    "from sklearn.ensemble import RandomForestRegressor\n",
    "from sklearn.tree import DecisionTreeRegressor\n",
    "from sklearn.linear_model import LinearRegression\n",
    "from sklearn.model_selection import GridSearchCV\n",
    "from sklearn.pipeline import Pipeline\n",
    "from sklearn.preprocessing import RobustScaler\n",
    "from sklearn.decomposition import  PCA\n",
    "import xgboost as xgb\n",
    "\n",
    "\n",
    "# Use make_scorer library because we need to calculate RMSLE as the error.\n",
    "# We use RMSLE as the scoring function, because RMSLE is used by Kaggle (see https://www.kaggle.com/c/house-prices-advanced-regression-techniques/leaderboard)\n",
    "from sklearn.metrics import make_scorer\n",
    "#https://www.kaggle.com/questions-and-answers/60012:\n",
    "from sklearn.metrics import mean_squared_log_error\n",
    "\n",
    "linear_reg = xgb.XGBRegressor(n_estimators=2500)  \n",
    "\n",
    "scaler = RobustScaler()\n",
    "#pipeline = Pipeline(steps=[('scaler', scaler),\n",
    "#           ('dummy', linear_reg)])\n",
    "\n",
    "\n",
    "pipeline = Pipeline(steps=[\n",
    "         # ('PCA', PCA(n_components=1000)),\n",
    "           ('dummy', linear_reg)])\n",
    "\n",
    "parameters = {'dummy__max_depth': [4,3,2,1]}\n",
    "\n",
    "scorer = make_scorer(mean_squared_log_error, greater_is_better=False)\n",
    "\n",
    "# Perform CV (Cross-validation) and grid search:\n",
    "#https://stackoverflow.com/questions/63473565/valueerror-mean-squared-error-is-not-a-valid-scoring-value\n",
    "grid_search = GridSearchCV(pipeline, parameters, n_jobs=6, \n",
    "                           verbose=1, scoring = scorer, \n",
    "                           refit=True, cv=5)\n",
    "\n",
    "\n",
    "grid_search.fit(X,y)\n",
    "\n",
    "print(grid_search.best_params_)\n",
    "print(\"\")\n",
    "score = -grid_search.best_score_\n",
    "print(np.sqrt(score))\n",
    "#print(score)"
   ]
  },
  {
   "cell_type": "code",
   "execution_count": 503,
   "metadata": {},
   "outputs": [
    {
     "name": "stdout",
     "output_type": "stream",
     "text": [
      "Fitting 5 folds for each of 4 candidates, totalling 20 fits\n",
      "{'dummy__max_depth': 4}\n",
      "\n",
      "0.16653543428741927\n"
     ]
    }
   ],
   "source": [
    "X = df_training_data_final.copy()\n",
    "X = X.drop('Id',  axis=1)\n",
    "X = X.drop('SalePrice',  axis=1)\n",
    "\n",
    "y = df_training_data_final['SalePrice']\n",
    "\n",
    "\n",
    "\n",
    "from sklearn.ensemble import RandomForestRegressor\n",
    "from sklearn.tree import DecisionTreeRegressor\n",
    "from sklearn.linear_model import Lasso \n",
    "from sklearn.model_selection import GridSearchCV\n",
    "from sklearn.pipeline import Pipeline\n",
    "from sklearn.preprocessing import RobustScaler\n",
    "from sklearn.decomposition import  TruncatedSVD\n",
    "import xgboost as xgb\n",
    "\n",
    "\n",
    "# Use make_scorer library because we need to calculate RMSLE as the error.\n",
    "# We use RMSLE as the scoring function, because RMSLE is used by Kaggle (see https://www.kaggle.com/c/house-prices-advanced-regression-techniques/leaderboard)\n",
    "from sklearn.metrics import make_scorer\n",
    "#https://www.kaggle.com/questions-and-answers/60012:\n",
    "from sklearn.metrics import mean_squared_log_error\n",
    "\n",
    "\n",
    "\n",
    "\n",
    "\n",
    "\n",
    "\n",
    "\n",
    "linear_reg = xgb.XGBRegressor(n_estimators=2500)  \n",
    "\n",
    "#pipeline = Pipeline(steps=[('scaler', scaler),\n",
    "#           ('dummy', linear_reg)])\n",
    "\n",
    "\n",
    "pipeline = Pipeline(steps=[\n",
    "          ('scaler', TruncatedSVD(n_components=150)),\n",
    "           ('dummy', linear_reg)])\n",
    "\n",
    "parameters = {}\n",
    "parameters = {'dummy__max_depth': [4,3,2,1]}\n",
    "\n",
    "\n",
    "scorer = make_scorer(mean_squared_log_error, greater_is_better=False)\n",
    "\n",
    "# Perform CV (Cross-validation) and grid search:\n",
    "#https://stackoverflow.com/questions/63473565/valueerror-mean-squared-error-is-not-a-valid-scoring-value\n",
    "grid_search = GridSearchCV(pipeline, parameters, n_jobs=6, \n",
    "                           verbose=1, scoring = scorer, \n",
    "                           refit=True, cv=5)\n",
    "\n",
    "\n",
    "grid_search.fit(X,y)\n",
    "\n",
    "print(grid_search.best_params_)\n",
    "print(\"\")\n",
    "score = -grid_search.best_score_\n",
    "print(np.sqrt(score))\n",
    "#print(score)"
   ]
  },
  {
   "cell_type": "code",
   "execution_count": 496,
   "metadata": {},
   "outputs": [
    {
     "data": {
      "text/plain": [
       "count      1460.000000\n",
       "mean     180921.195890\n",
       "std       79442.502883\n",
       "min       34900.000000\n",
       "25%      129975.000000\n",
       "50%      163000.000000\n",
       "75%      214000.000000\n",
       "max      755000.000000\n",
       "Name: SalePrice, dtype: float64"
      ]
     },
     "execution_count": 496,
     "metadata": {},
     "output_type": "execute_result"
    }
   ],
   "source": [
    "df_training_data_final['SalePrice'].describe()"
   ]
  },
  {
   "cell_type": "code",
   "execution_count": 505,
   "metadata": {},
   "outputs": [],
   "source": [
    "from scipy import stats\n",
    "\n",
    "\n",
    "a = df_training_data_final.corr(method='pearson')\n",
    "    \n",
    "    "
   ]
  },
  {
   "cell_type": "code",
   "execution_count": 511,
   "metadata": {},
   "outputs": [
    {
     "data": {
      "text/plain": [
       "Id                  -0.021917\n",
       "MSSubClass          -0.084284\n",
       "LotFrontage          0.329220\n",
       "LotArea              0.263843\n",
       "OverallQual          0.790982\n",
       "OverallCond         -0.077856\n",
       "YearBuilt            0.522897\n",
       "YearRemodAdd         0.507101\n",
       "MasVnrArea           0.472614\n",
       "BsmtFinSF1           0.386420\n",
       "BsmtFinSF2          -0.011378\n",
       "BsmtUnfSF            0.214479\n",
       "TotalBsmtSF          0.613581\n",
       "1stFlrSF             0.605852\n",
       "2ndFlrSF             0.319334\n",
       "LowQualFinSF        -0.025606\n",
       "GrLivArea            0.708624\n",
       "BsmtFullBath         0.227122\n",
       "BsmtHalfBath        -0.016844\n",
       "FullBath             0.560664\n",
       "HalfBath             0.284108\n",
       "BedroomAbvGr         0.168213\n",
       "KitchenAbvGr        -0.135907\n",
       "TotRmsAbvGrd         0.533723\n",
       "Fireplaces           0.466929\n",
       "GarageYrBlt          0.397778\n",
       "GarageCars           0.640409\n",
       "GarageArea           0.623431\n",
       "WoodDeckSF           0.324413\n",
       "OpenPorchSF          0.315856\n",
       "EnclosedPorch       -0.128578\n",
       "3SsnPorch            0.044584\n",
       "ScreenPorch          0.111447\n",
       "PoolArea             0.092404\n",
       "MiscVal             -0.021190\n",
       "MoSold               0.046432\n",
       "YrSold              -0.028923\n",
       "SalePrice            1.000000\n",
       "MSZoning_FV          0.089950\n",
       "MSZoning_NA               NaN\n",
       "MSZoning_RH         -0.065429\n",
       "MSZoning_RL          0.245063\n",
       "MSZoning_RM         -0.288065\n",
       "Street_Pave          0.041036\n",
       "Alley_NA             0.123611\n",
       "Alley_Pave          -0.027655\n",
       "LotShape_IR2         0.126096\n",
       "LotShape_IR3         0.036720\n",
       "LotShape_Reg        -0.267672\n",
       "LandContour_HLS      0.120014\n",
       "LandContour_Low      0.045528\n",
       "LandContour_Lvl     -0.027545\n",
       "Utilities_NA              NaN\n",
       "Utilities_NoSeWa    -0.014314\n",
       "LotConfig_CulDSac    0.141818\n",
       "LotConfig_FR2       -0.006859\n",
       "LotConfig_FR3        0.018186\n",
       "LotConfig_Inside    -0.080538\n",
       "LandSlope_Mod        0.042981\n",
       "LandSlope_Sev        0.027998\n",
       "Name: SalePrice, dtype: float64"
      ]
     },
     "execution_count": 511,
     "metadata": {},
     "output_type": "execute_result"
    }
   ],
   "source": [
    "a['SalePrice'].head(60)"
   ]
  },
  {
   "cell_type": "code",
   "execution_count": 512,
   "metadata": {},
   "outputs": [
    {
     "data": {
      "text/plain": [
       "KitchenQual_NA                NaN\n",
       "KitchenQual_TA          -0.519298\n",
       "Functional_Maj2         -0.070214\n",
       "Functional_Min1         -0.064051\n",
       "Functional_Min2         -0.071320\n",
       "Functional_Mod          -0.016073\n",
       "Functional_NA                 NaN\n",
       "Functional_Sev          -0.017116\n",
       "Functional_Typ           0.116462\n",
       "FireplaceQu_Fa          -0.026086\n",
       "FireplaceQu_Gd           0.339329\n",
       "FireplaceQu_NA          -0.471908\n",
       "FireplaceQu_Po          -0.075916\n",
       "FireplaceQu_TA           0.163147\n",
       "GarageType_Attchd        0.335961\n",
       "GarageType_Basment      -0.029425\n",
       "GarageType_BuiltIn       0.235449\n",
       "GarageType_CarPort      -0.070371\n",
       "GarageType_Detchd       -0.354141\n",
       "GarageType_NA           -0.236832\n",
       "GarageFinish_NA         -0.236832\n",
       "GarageFinish_RFn         0.169792\n",
       "GarageFinish_Unf        -0.410608\n",
       "GarageQual_Fa           -0.133142\n",
       "GarageQual_Gd            0.043291\n",
       "GarageQual_NA           -0.236832\n",
       "GarageQual_Po           -0.046142\n",
       "GarageQual_TA            0.245346\n",
       "GarageCond_Fa           -0.130774\n",
       "GarageCond_Gd           -0.000983\n",
       "GarageCond_NA           -0.236832\n",
       "GarageCond_Po           -0.063296\n",
       "GarageCond_TA            0.275872\n",
       "PavedDrive_P            -0.088623\n",
       "PavedDrive_Y             0.231968\n",
       "PoolQC_Fa                0.016127\n",
       "PoolQC_Gd                0.012038\n",
       "PoolQC_NA               -0.093708\n",
       "Fence_GdWo              -0.100047\n",
       "Fence_MnPrv             -0.140613\n",
       "Fence_MnWw              -0.051164\n",
       "Fence_NA                 0.172184\n",
       "MiscFeature_NA           0.072298\n",
       "MiscFeature_Othr        -0.040538\n",
       "MiscFeature_Shed        -0.069771\n",
       "MiscFeature_TenC         0.022773\n",
       "SaleType_CWD             0.019588\n",
       "SaleType_Con             0.041357\n",
       "SaleType_ConLD          -0.041791\n",
       "SaleType_ConLI           0.014371\n",
       "SaleType_ConLw          -0.027475\n",
       "SaleType_NA                   NaN\n",
       "SaleType_New             0.357509\n",
       "SaleType_Oth            -0.034895\n",
       "SaleType_WD             -0.242598\n",
       "SaleCondition_AdjLand   -0.050686\n",
       "SaleCondition_Alloca    -0.015525\n",
       "SaleCondition_Family    -0.046480\n",
       "SaleCondition_Normal    -0.153990\n",
       "SaleCondition_Partial    0.352060\n",
       "Name: SalePrice, dtype: float64"
      ]
     },
     "execution_count": 512,
     "metadata": {},
     "output_type": "execute_result"
    }
   ],
   "source": [
    "a['SalePrice'].tail(60)"
   ]
  },
  {
   "cell_type": "code",
   "execution_count": 514,
   "metadata": {},
   "outputs": [
    {
     "data": {
      "text/plain": [
       "5     397\n",
       "6     374\n",
       "7     319\n",
       "8     168\n",
       "4     116\n",
       "9      43\n",
       "3      20\n",
       "10     18\n",
       "2       3\n",
       "1       2\n",
       "Name: OverallQual, dtype: int64"
      ]
     },
     "execution_count": 514,
     "metadata": {},
     "output_type": "execute_result"
    }
   ],
   "source": [
    "df_training_data_final.OverallQual.value_counts()"
   ]
  },
  {
   "cell_type": "code",
   "execution_count": null,
   "metadata": {},
   "outputs": [],
   "source": []
  }
 ],
 "metadata": {
  "kernelspec": {
   "display_name": "Python 3",
   "language": "python",
   "name": "python3"
  },
  "language_info": {
   "codemirror_mode": {
    "name": "ipython",
    "version": 3
   },
   "file_extension": ".py",
   "mimetype": "text/x-python",
   "name": "python",
   "nbconvert_exporter": "python",
   "pygments_lexer": "ipython3",
   "version": "3.7.7"
  }
 },
 "nbformat": 4,
 "nbformat_minor": 4
}
